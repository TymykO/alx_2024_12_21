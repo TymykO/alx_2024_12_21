{
 "cells": [
  {
   "cell_type": "code",
   "execution_count": 4,
   "metadata": {},
   "outputs": [
    {
     "name": "stdout",
     "output_type": "stream",
     "text": [
      "False\n",
      "plik zamykam\n",
      "True\n"
     ]
    }
   ],
   "source": [
    "try:\n",
    "    f = open(\"data.txt\", \"w\")\n",
    "    f.write(\"Jaki tekst\\n\")\n",
    "    print(f.closed)\n",
    "finally:\n",
    "    print(\"plik zamykam\")\n",
    "    f.close()\n",
    "    print(f.closed)"
   ]
  },
  {
   "cell_type": "code",
   "execution_count": 5,
   "metadata": {},
   "outputs": [
    {
     "name": "stdout",
     "output_type": "stream",
     "text": [
      "False\n",
      "True\n"
     ]
    }
   ],
   "source": [
    "with open(\"data.txt\", \"w\") as f:\n",
    "    f.write(\"cos tam\")\n",
    "    print(f.closed)\n",
    "\n",
    "print(f.closed)\n",
    "\n",
    "\n",
    "\n"
   ]
  },
  {
   "cell_type": "markdown",
   "metadata": {},
   "source": [
    "## praca z systemem plików"
   ]
  },
  {
   "cell_type": "code",
   "execution_count": 8,
   "metadata": {},
   "outputs": [
    {
     "data": {
      "text/plain": [
       "'/Users/rkorzen/PycharmProjects/szkolenia/alx/alx_2024_12_21'"
      ]
     },
     "execution_count": 8,
     "metadata": {},
     "output_type": "execute_result"
    }
   ],
   "source": [
    "import os\n",
    "\n",
    "os.getcwd()"
   ]
  },
  {
   "cell_type": "code",
   "execution_count": 9,
   "metadata": {},
   "outputs": [
    {
     "data": {
      "text/plain": [
       "['przyklady',\n",
       " '01_podstawy.md',\n",
       " '03_data_i_czas.ipynb',\n",
       " '06_dekoratory.ipynb',\n",
       " 'document.html',\n",
       " 'zmienne_srodowiskowe.py',\n",
       " 'data.json',\n",
       " 'lista.pkl',\n",
       " 'log.txt',\n",
       " '02_funkcje.ipynb',\n",
       " 'materialy',\n",
       " '.gitignore',\n",
       " '04_moduly_i_paczki.ipynb',\n",
       " 'elementy_http.ipynb',\n",
       " 'cwiczenia',\n",
       " 'didaskalia',\n",
       " 'venv',\n",
       " '.git',\n",
       " '.vscode',\n",
       " '05_serializacja_deserializacja.ipynb',\n",
       " '07_praca_z_plikami.ipynb',\n",
       " 'data.txt',\n",
       " '.idea']"
      ]
     },
     "execution_count": 9,
     "metadata": {},
     "output_type": "execute_result"
    }
   ],
   "source": [
    "os.listdir()"
   ]
  },
  {
   "cell_type": "code",
   "execution_count": 10,
   "metadata": {},
   "outputs": [
    {
     "data": {
      "text/plain": [
       "'/Users/rkorzen/PycharmProjects/szkolenia/alx/alx_2024_12_21/cwiczenia'"
      ]
     },
     "execution_count": 10,
     "metadata": {},
     "output_type": "execute_result"
    }
   ],
   "source": [
    "os.chdir(os.getcwd() + \"/cwiczenia\")\n",
    "os.getcwd()"
   ]
  },
  {
   "cell_type": "code",
   "execution_count": 11,
   "metadata": {},
   "outputs": [
    {
     "data": {
      "text/plain": [
       "['cwiczenie_05.py',\n",
       " 'cwiczenie_01.py',\n",
       " 'cwiczenie_04.py',\n",
       " 'cwiczenie_03.py',\n",
       " 'cwiczenie_07.py',\n",
       " 'cwiczenie_06.py',\n",
       " 'cwiczenie_02.py']"
      ]
     },
     "execution_count": 11,
     "metadata": {},
     "output_type": "execute_result"
    }
   ],
   "source": [
    "os.listdir()"
   ]
  },
  {
   "cell_type": "code",
   "execution_count": 12,
   "metadata": {},
   "outputs": [],
   "source": [
    "os.chdir(os.getcwd().replace(\"/cwiczenia\", \"\"))"
   ]
  },
  {
   "cell_type": "code",
   "execution_count": 13,
   "metadata": {},
   "outputs": [
    {
     "data": {
      "text/plain": [
       "['cwiczenie_05.py',\n",
       " 'cwiczenie_01.py',\n",
       " 'cwiczenie_04.py',\n",
       " 'cwiczenie_03.py',\n",
       " 'cwiczenie_07.py',\n",
       " 'cwiczenie_06.py',\n",
       " 'cwiczenie_02.py']"
      ]
     },
     "execution_count": 13,
     "metadata": {},
     "output_type": "execute_result"
    }
   ],
   "source": [
    "os.listdir(\"cwiczenia\")"
   ]
  },
  {
   "cell_type": "code",
   "execution_count": 14,
   "metadata": {},
   "outputs": [],
   "source": [
    "## Path"
   ]
  },
  {
   "cell_type": "code",
   "execution_count": null,
   "metadata": {},
   "outputs": [],
   "source": [
    "from pathlib import Path"
   ]
  }
 ],
 "metadata": {
  "kernelspec": {
   "display_name": "venv",
   "language": "python",
   "name": "python3"
  },
  "language_info": {
   "codemirror_mode": {
    "name": "ipython",
    "version": 3
   },
   "file_extension": ".py",
   "mimetype": "text/x-python",
   "name": "python",
   "nbconvert_exporter": "python",
   "pygments_lexer": "ipython3",
   "version": "3.9.13"
  }
 },
 "nbformat": 4,
 "nbformat_minor": 2
}
