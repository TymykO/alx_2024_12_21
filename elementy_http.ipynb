{
 "cells": [
  {
   "cell_type": "markdown",
   "metadata": {},
   "source": [
    "## adres url (uri)"
   ]
  },
  {
   "cell_type": "markdown",
   "metadata": {
    "vscode": {
     "languageId": "plaintext"
    }
   },
   "source": [
    "http://www.example.com/galeria/123/?page=1&sort=asc&limit=10#akapi1\n",
    "\n",
    "\n",
    "    http: - określenie protokołu\n",
    "    www.example.com - nazwa hosta (domain name) kryje sie za tym ip\n",
    "\n",
    "    galeri/123 - ścieżka (path)\n",
    "    ?page=1&sort=asc&limit=10 - parametry (query)\n",
    "    #akapi1 - fragment (fragment)\n",
    "\n",
    "\n"
   ]
  }
 ],
 "metadata": {
  "language_info": {
   "name": "python"
  }
 },
 "nbformat": 4,
 "nbformat_minor": 2
}
