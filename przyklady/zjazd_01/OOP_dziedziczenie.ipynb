{
 "cells": [
  {
   "cell_type": "markdown",
   "metadata": {},
   "source": [
    "## Dziedziczenie"
   ]
  },
  {
   "cell_type": "code",
   "execution_count": 5,
   "metadata": {},
   "outputs": [
    {
     "name": "stdout",
     "output_type": "stream",
     "text": [
      "Reksio makse a sound...\n",
      "Hau hau\n",
      "Bonifacy makse a sound...\n",
      "miau miau\n"
     ]
    }
   ],
   "source": [
    "class Animal:\n",
    "\n",
    "    def __init__(self, name):\n",
    "        self.name = name\n",
    "\n",
    "    def speak(self):\n",
    "        print(f\"{self.name} makse a sound...\")\n",
    "\n",
    "\n",
    "class Dog(Animal):\n",
    "    \n",
    "    def speak(self):\n",
    "        super().speak()\n",
    "        print(\"Hau hau\")\n",
    "\n",
    "\n",
    "class Cat(Animal):\n",
    "    \n",
    "    def speak(self):\n",
    "        super().speak()\n",
    "        print(\"miau miau\")\n",
    "\n",
    "a = Dog(\"Reksio\")\n",
    "c = Cat(\"Bonifacy\")\n",
    "a.speak()\n",
    "c.speak()"
   ]
  },
  {
   "cell_type": "code",
   "execution_count": null,
   "metadata": {},
   "outputs": [],
   "source": [
    "class Hero:\n",
    "\n",
    "    def __init__(self, name):\n",
    "        self.name = name\n",
    "\n",
    "class SpiderMan(Hero):\n",
    "\n",
    "    def sixth_sense(self):\n",
    "        print(\"Something danger\")\n",
    "\n",
    "\n",
    "class Superman(Hero):\n",
    "\n",
    "    def super_sila(self):\n",
    "        print(\"Uzywa supersily\")\n",
    "\n",
    "    def fly(self):\n",
    "        print(\"Lata\")"
   ]
  },
  {
   "cell_type": "code",
   "execution_count": null,
   "metadata": {},
   "outputs": [],
   "source": [
    "class FlyMixin:\n",
    "\n",
    "    def fly(self):\n",
    "        print(f\"{self.name} lata\")\n",
    "\n",
    "class SuperStrengthMixin:\n",
    "\n",
    "    def superstrength(self):\n",
    "        print(f\"{self.name} uzywa super sily\")        \n",
    "\n",
    "\n",
    "class TelekineticMixin:\n",
    "\n",
    "    def telekinetic(self):\n",
    "        print(f\"{self.name} uzywa telekinezy\")\n",
    "\n",
    "\n",
    "\n",
    "class Superman(Hero, FlyMixin, SuperStrengthMixin):\n",
    "    pass          "
   ]
  }
 ],
 "metadata": {
  "kernelspec": {
   "display_name": "venv",
   "language": "python",
   "name": "python3"
  },
  "language_info": {
   "codemirror_mode": {
    "name": "ipython",
    "version": 3
   },
   "file_extension": ".py",
   "mimetype": "text/x-python",
   "name": "python",
   "nbconvert_exporter": "python",
   "pygments_lexer": "ipython3",
   "version": "3.9.13"
  }
 },
 "nbformat": 4,
 "nbformat_minor": 2
}
