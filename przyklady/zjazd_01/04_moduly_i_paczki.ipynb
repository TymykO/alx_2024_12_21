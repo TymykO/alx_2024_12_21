{
 "cells": [
  {
   "cell_type": "markdown",
   "metadata": {},
   "source": [
    "modul (module) - plik z kodem pythonowym (.py)\n",
    "\n",
    "paczka (package) - katalog zawierajacy moduly pythonowe. Często zawiera plik __init__.py\n",
    "\n"
   ]
  }
 ],
 "metadata": {
  "language_info": {
   "name": "python"
  }
 },
 "nbformat": 4,
 "nbformat_minor": 2
}
