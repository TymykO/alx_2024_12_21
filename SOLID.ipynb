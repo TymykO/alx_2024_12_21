{
 "cells": [
  {
   "cell_type": "markdown",
   "metadata": {},
   "source": [
    "# SOLID\n",
    "\n",
    "## SINGLE RESPONSIBILITY PRINCIPLE\n"
   ]
  },
  {
   "cell_type": "code",
   "execution_count": 1,
   "metadata": {},
   "outputs": [],
   "source": [
    "class Report:\n",
    "    def __init__(self, data):\n",
    "        self.data = data\n",
    "\n",
    "    def generate(self):\n",
    "        return f\"Report: {self.data}\"\n",
    "\n",
    "    def save_to_file(self, filename):\n",
    "        with open(filename, 'w') as file:\n",
    "            file.write(self.generate())"
   ]
  },
  {
   "cell_type": "code",
   "execution_count": null,
   "metadata": {},
   "outputs": [],
   "source": [
    "class Report:\n",
    "    def __init__(self, data):\n",
    "        self.data = data\n",
    "\n",
    "    def generate(self):\n",
    "        return f\"Report: {self.data}\"\n",
    "\n",
    "class FileSaver:\n",
    "    def save_to_file(self, filename):\n",
    "        with open(filename, 'w') as file:\n",
    "            file.write(self.generate())\n",
    "\n",
    "raport = Report()\n",
    "saver = FileSaver()\n",
    "saver.save_to_file(raport.generate(), \"raport.txt\")"
   ]
  },
  {
   "cell_type": "markdown",
   "metadata": {},
   "source": [
    "## Open Closed Principle"
   ]
  },
  {
   "cell_type": "code",
   "execution_count": 3,
   "metadata": {},
   "outputs": [],
   "source": [
    "class Discount:\n",
    "\n",
    "    def apply_discount(self, price, customer_type):\n",
    "        if customer_type == \"regular\":\n",
    "            return price * 0.9\n",
    "        elif customer_type == \"vip\":\n",
    "            return price * 0.8\n",
    "        \n"
   ]
  },
  {
   "cell_type": "code",
   "execution_count": null,
   "metadata": {},
   "outputs": [],
   "source": [
    "from abc import ABC, abstractmethod\n",
    "\n",
    "class IDiscount(ABC):\n",
    "    def apply_discount(self, price):\n",
    "        ...\n",
    "\n",
    "class RegularCustomerDiscount(IDiscount):\n",
    "    def apply_discount(self, price):\n",
    "        return price * 0.9\n",
    "\n",
    "class VipCustomerDiscount(IDiscount):\n",
    "    def apply_discount(self, price):\n",
    "         return price * 0.8\n",
    "    \n",
    "\n",
    "discounts = {\"regular\": RegularCustomerDiscount, \"vip\": VipCustomerDiscount}"
   ]
  },
  {
   "cell_type": "code",
   "execution_count": 5,
   "metadata": {},
   "outputs": [],
   "source": [
    "# import this"
   ]
  },
  {
   "cell_type": "markdown",
   "metadata": {},
   "source": [
    "## Liskov Substitution Principle\n",
    "\n"
   ]
  },
  {
   "cell_type": "code",
   "execution_count": null,
   "metadata": {},
   "outputs": [],
   "source": [
    "class Bird:\n",
    "    def fly(self):\n",
    "        pass\n",
    "\n",
    "\n",
    "class Pinquin:\n",
    "    def fly(self):\n",
    "        raise NotImplementedError"
   ]
  },
  {
   "cell_type": "code",
   "execution_count": null,
   "metadata": {},
   "outputs": [],
   "source": [
    "class Bird(ABC):\n",
    "    @abstractmethod\n",
    "    def move(self): ...\n",
    "\n",
    "\n",
    "class FlyingBird(Bird):\n",
    "    \n",
    "    def move(self):\n",
    "        return \"I can fly\"\n",
    "    \n",
    "class Pinquin(Bird):\n",
    "\n",
    "    def move(self):\n",
    "        return \"I waddle\""
   ]
  },
  {
   "cell_type": "markdown",
   "metadata": {},
   "source": [
    "## Interface segregation principle"
   ]
  },
  {
   "cell_type": "code",
   "execution_count": null,
   "metadata": {},
   "outputs": [],
   "source": [
    "class Worker:\n",
    "\n",
    "    def work(self): return \"I am working\"\n",
    "\n",
    "    def eat(self): return \"I am eating\"\n",
    "\n",
    "\n",
    "class Robot(Worker):\n",
    "\n",
    "    def eat(self): raise NotImplementedError()\n"
   ]
  },
  {
   "cell_type": "code",
   "execution_count": null,
   "metadata": {},
   "outputs": [],
   "source": [
    "class Worker(ABC):\n",
    "\n",
    "    @abstractmethod\n",
    "    def work(self): ...\n",
    "\n",
    "\n",
    "class Eater(ABC):\n",
    "\n",
    "    @abstractmethod\n",
    "    def eat(self): ...\n",
    "\n",
    "\n",
    "class Human(Worker, Eater):\n",
    "    \n",
    "    def work(self): return \"I am working\"\n",
    "\n",
    "    def eat(self): return \"I am eating\"\n",
    "\n",
    "class Horse(Worker, Eater):\n",
    "\n",
    "    def work(self): return \"Horse working\"\n",
    "\n",
    "    def eat(self): return \"Horse eating\"\n",
    "\n",
    "class Robot(Worker):\n",
    "\n",
    "    def work(self): return \"I am working\""
   ]
  },
  {
   "cell_type": "markdown",
   "metadata": {},
   "source": [
    "## Dependency Inversion Principle\n"
   ]
  },
  {
   "cell_type": "code",
   "execution_count": 6,
   "metadata": {},
   "outputs": [],
   "source": [
    "class MySQLDatabase:\n",
    "    def connect(self): print(\"Connectin to mysql\")\n",
    "\n",
    "class Application:\n",
    "    def __init__(self):\n",
    "        self.db = MySQLDatabase()\n",
    "\n",
    "    def run(self):\n",
    "        self.db.connect()\n",
    "        ..."
   ]
  },
  {
   "cell_type": "code",
   "execution_count": null,
   "metadata": {},
   "outputs": [],
   "source": [
    "class IDatabase(ABC):\n",
    "    @abstractmethod\n",
    "    def connect(self): ...\n",
    "\n",
    "class MySQLDatabase(IDatabase):\n",
    "    def connect(self): print(\"Connectin to mysql\")\n",
    "\n",
    "\n",
    "class MongoDB(IDatabase):\n",
    "    def connect(self): print(\"Connectin to mongodb\")    \n",
    "\n",
    "\n",
    "class Application:\n",
    "    def __init__(self, db: IDatabase):\n",
    "        self.db = db\n",
    "\n",
    "    def run(self):\n",
    "        self.db.connect()\n",
    "        ..."
   ]
  }
 ],
 "metadata": {
  "kernelspec": {
   "display_name": "venv",
   "language": "python",
   "name": "python3"
  },
  "language_info": {
   "codemirror_mode": {
    "name": "ipython",
    "version": 3
   },
   "file_extension": ".py",
   "mimetype": "text/x-python",
   "name": "python",
   "nbconvert_exporter": "python",
   "pygments_lexer": "ipython3",
   "version": "3.9.13"
  }
 },
 "nbformat": 4,
 "nbformat_minor": 2
}
