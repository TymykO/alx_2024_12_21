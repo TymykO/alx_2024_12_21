{
 "cells": [
  {
   "cell_type": "code",
   "execution_count": 4,
   "metadata": {},
   "outputs": [],
   "source": [
    "from abc import ABC, abstractmethod\n",
    "\n",
    "class ISilnik(ABC):\n",
    "\n",
    "    @abstractmethod\n",
    "    def uruchom(self): ...\n",
    "\n",
    "\n",
    "    @abstractmethod\n",
    "    def zatrzymaj(self): ...\n",
    "        \n",
    "\n"
   ]
  },
  {
   "cell_type": "code",
   "execution_count": 6,
   "metadata": {},
   "outputs": [
    {
     "ename": "TypeError",
     "evalue": "Can't instantiate abstract class ZlySilnik with abstract method zatrzymaj",
     "output_type": "error",
     "traceback": [
      "\u001b[0;31m---------------------------------------------------------------------------\u001b[0m",
      "\u001b[0;31mTypeError\u001b[0m                                 Traceback (most recent call last)",
      "Cell \u001b[0;32mIn[6], line 5\u001b[0m\n\u001b[1;32m      2\u001b[0m     \u001b[38;5;28;01mdef\u001b[39;00m \u001b[38;5;21muruchom\u001b[39m(\u001b[38;5;28mself\u001b[39m):\n\u001b[1;32m      3\u001b[0m         \u001b[38;5;28mprint\u001b[39m(\u001b[38;5;124m\"\u001b[39m\u001b[38;5;124mZly silnik dziala\u001b[39m\u001b[38;5;124m\"\u001b[39m)\n\u001b[0;32m----> 5\u001b[0m \u001b[43mZlySilnik\u001b[49m\u001b[43m(\u001b[49m\u001b[43m)\u001b[49m\n",
      "\u001b[0;31mTypeError\u001b[0m: Can't instantiate abstract class ZlySilnik with abstract method zatrzymaj"
     ]
    }
   ],
   "source": [
    "class ZlySilnik(ISilnik):\n",
    "    def uruchom(self):\n",
    "        print(\"Zly silnik dziala\")\n",
    "\n",
    "ZlySilnik()"
   ]
  },
  {
   "cell_type": "code",
   "execution_count": null,
   "metadata": {},
   "outputs": [],
   "source": [
    "\n",
    "class SilnikSpalinowy(ISilnik):\n",
    "\n",
    "    def uruchom(self):\n",
    "        print(\"Silnik uruchomiony\")\n",
    "\n",
    "    def zatrzymaj(self):\n",
    "        print(\"Silnik zatrzymany\")\n",
    "\n",
    "\n",
    "class SilnikElektryczny(ISilnik):\n",
    "\n",
    "    def uruchom(self):\n",
    "        print(\"Silnik elektryczny uruchomiony\")\n",
    "\n",
    "    def zatrzymaj(self):\n",
    "        print(\"Silnik elektryczn zatrzymany\")\n",
    "\n",
    "\n",
    "\n",
    "class Samochod:\n",
    "\n",
    "    def __init__(self, name: str, silnik_klass: ISilnik=SilnikSpalinowy):\n",
    "        self.silnik = silnik_klass()\n",
    "        self.name = name\n",
    "\n",
    "    def jedz(self):\n",
    "        self.silnik.uruchom()\n",
    "        print(\"Samochod jedzie\")\n",
    "\n",
    "    def zatrzymaj(self):\n",
    "        print(\"Samochod staje\")\n",
    "        self.silnik.zatrzymaj()\n",
    "\n",
    "\n",
    "# class SamochodElektryczny(Samochod):\n",
    "#     def __init__(self, name):\n",
    "#         self.silnik = SilnikElektryczny()\n",
    "#         self.name = name\n",
    "\n",
    "\n",
    "s = Samochod(\"BMW\")\n",
    "es = Samochod(\"Tesla\", SilnikElektryczny)\n",
    "s.jedz()\n",
    "es.jedz()"
   ]
  },
  {
   "cell_type": "code",
   "execution_count": null,
   "metadata": {},
   "outputs": [],
   "source": []
  }
 ],
 "metadata": {
  "kernelspec": {
   "display_name": "venv",
   "language": "python",
   "name": "python3"
  },
  "language_info": {
   "codemirror_mode": {
    "name": "ipython",
    "version": 3
   },
   "file_extension": ".py",
   "mimetype": "text/x-python",
   "name": "python",
   "nbconvert_exporter": "python",
   "pygments_lexer": "ipython3",
   "version": "3.9.13"
  }
 },
 "nbformat": 4,
 "nbformat_minor": 2
}
