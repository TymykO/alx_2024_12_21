{
 "cells": [
  {
   "cell_type": "markdown",
   "metadata": {},
   "source": [
    "Funkcje w Pythonie\n",
    "==================\n"
   ]
  },
  {
   "cell_type": "markdown",
   "metadata": {},
   "source": [
    "## **Funkcje wbudowane w Pythonie**\n",
    "\n",
    "Python oferuje szeroką gamę funkcji wbudowanych (**built-in functions**), które są dostępne bez konieczności importowania dodatkowych modułów. Te funkcje usprawniają pracę, zapewniając gotowe rozwiązania dla wielu typowych zadań, takich jak obsługa danych, przekształcenia, operacje matematyczne czy zarządzanie iteracjami.\n",
    "\n",
    "---\n",
    "\n",
    "### **Kategoryzacja funkcji wbudowanych**\n",
    "\n",
    "1. **Operacje na typach danych**\n",
    "2. **Funkcje matematyczne i numeryczne**\n",
    "3. **Funkcje iteracyjne i funkcjonalne**\n",
    "4. **Funkcje logiczne i porównawcze**\n",
    "5. **Operacje wejścia/wyjścia**\n",
    "6. **Funkcje pomocnicze i diagnostyczne**\n"
   ]
  },
  {
   "cell_type": "markdown",
   "metadata": {},
   "source": [
    "\n",
    "---\n",
    "\n",
    "### **1. Operacje na typach danych**\n",
    "\n",
    "#### **Przekształcenia typów**\n",
    "- **`int()`**: Konwertuje wartość na liczbę całkowitą.\n",
    "  ```python\n",
    "  print(int(\"42\"))  # 42\n",
    "  ```\n",
    "- **`float()`**: Konwertuje wartość na liczbę zmiennoprzecinkową.\n",
    "  ```python\n",
    "  print(float(\"3.14\"))  # 3.14\n",
    "  ```\n",
    "- **`str()`**: Konwertuje wartość na string.\n",
    "  ```python\n",
    "  print(str(123))  # \"123\"\n",
    "  ```\n",
    "- **`bool()`**: Konwertuje wartość na wartość logiczną.\n",
    "  ```python\n",
    "  print(bool(0))  # False\n",
    "  ```\n",
    "- **`complex()`**: Tworzy liczby zespolone.\n",
    "  ```python\n",
    "  print(complex(1, 2))  # (1+2j)\n",
    "  ```\n",
    "- **`list()`, `tuple()`, `set()`, `frozenset()`, `dict()`**: Konwersja na odpowiednie struktury danych.\n",
    "- `bytes()`, `bytearray()`: Konwersja na typy bytes.\n"
   ]
  },
  {
   "cell_type": "markdown",
   "metadata": {},
   "source": [
    "- **`chr()`**: Zwraca znak odpowiadający podanemu kodowi ASCII.\n",
    "  ```python\n",
    "  print(chr(65))  # 'A'\n",
    "  ```\n",
    "- **`ord()`**: Zwraca kod ASCII dla podanego znaku.\n",
    "  ```python\n",
    "  print(ord('A'))  # 65\n",
    "  ```\n",
    "\n",
    "- **`bin()`**: Zwraca binarną reprezentację liczby.\n",
    "  ```python\n",
    "  print(bin(10))  # '0b1010'\n",
    "  ```\n",
    "- **`hex()`**: Zwraca szesnastkową reprezentację liczby.\n",
    "  ```python\n",
    "  print(hex(10))  # '0xa'\n",
    "  ```\n",
    "- **`oct()`**: Zwraca ósemkowa reprezentację liczby.\n",
    "  ```python\n",
    "  print(oct(10))  # '0o12'\n",
    "  ```"
   ]
  },
  {
   "cell_type": "markdown",
   "metadata": {},
   "source": [
    "\n",
    "#### **Typowanie i inspekcja typów**\n",
    "- **`type()`**: Zwraca typ obiektu\n",
    "  ```python\n",
    "  print(type(123))  # <class 'int'>\n",
    "  ```\n",
    "  Można też przy pomocy tej funkcji tworzyć nowe typy danych:\n",
    "  ```python\n",
    "  Point = type(\"Point\", (object,), {\"x\": 0, \"y\": 0})\n",
    "  ```\n",
    "\n",
    "- **`isinstance()`**: Sprawdza, czy obiekt jest instancją danego typu.\n",
    "  ```python\n",
    "  print(isinstance(123, int))  # True\n",
    "  ```\n"
   ]
  },
  {
   "cell_type": "markdown",
   "metadata": {},
   "source": [
    "\n",
    "---\n",
    "\n",
    "### **2. Funkcje matematyczne i numeryczne**\n",
    "\n",
    "- **`abs()`**: Zwraca wartość bezwzględną liczby.\n",
    "  ```python\n",
    "  print(abs(-10))  # 10\n",
    "  ```\n",
    "- **`pow()`**: Zwraca wartość potęgi (`base ** exp`).\n",
    "  ```python\n",
    "  print(pow(2, 3))  # 8\n",
    "  ```\n",
    "- **`round()`**: Zaokrągla liczbę.\n",
    "  ```python\n",
    "  print(round(3.14159, 2))  # 3.14\n",
    "  ```\n",
    "- **`divmod()`**: Zwraca krotkę (iloraz, reszta).\n",
    "  ```python\n",
    "  print(divmod(10, 3))  # (3, 1)\n",
    "  ```\n",
    "- **`sum()`**: Zwraca sumę elementów iterowalnych.\n",
    "  ```python\n",
    "  print(sum([1, 2, 3]))  # 6\n",
    "  ```\n",
    "- **`min()`, `max()`**: Zwracają minimalną lub maksymalną wartość w iterowalnych.\n",
    "  ```python\n",
    "  print(min(1, 2, 3))  # 1\n",
    "  print(max(1, 2, 3))  # 3\n",
    "  ```\n",
    "\n",
    "---\n",
    "\n",
    "### **3. Funkcje iteracyjne i funkcjonalne**\n",
    "\n",
    "#### **Praca z iteracjami**\n",
    "- **`len()`**: Zwraca długość obiektu iterowalnego.\n",
    "  ```python\n",
    "  print(len([1, 2, 3]))  # 3\n",
    "  ```\n",
    "- **`enumerate()`**: Dodaje indeksy do elementów iterowalnych.\n",
    "  ```python\n",
    "  for index, value in enumerate([\"a\", \"b\", \"c\"]):\n",
    "      print(index, value)\n",
    "  ```\n",
    "- **`zip()`**: Łączy iterowalne w krotki.\n",
    "  ```python\n",
    "  print(list(zip([1, 2], [\"a\", \"b\"])))  # [(1, 'a'), (2, 'b')]\n",
    "  ```\n",
    "- **`reversed()`**: Odwraca kolejność elementów.\n",
    "  ```python\n",
    "  print(list(reversed([1, 2, 3])))  # [3, 2, 1]\n",
    "  ```\n",
    "- **`sorted()`**: Zwraca posortowaną kopię iterowalnych.\n",
    "  ```python\n",
    "  print(sorted([3, 1, 2]))  # [1, 2, 3]\n",
    "  ```\n",
    "\n",
    "#### **Funkcje funkcjonalne**\n",
    "- **`map()`**: Zastosowanie funkcji do każdego elementu iterowalnych.\n",
    "  ```python\n",
    "  print(list(map(lambda x: x**2, [1, 2, 3])))  # [1, 4, 9]\n",
    "  ```\n",
    "- **`filter()`**: Filtruje elementy na podstawie funkcji.\n",
    "  ```python\n",
    "  print(list(filter(lambda x: x % 2 == 0, [1, 2, 3])))  # [2]\n",
    "  ```\n",
    "- **`reduce()`**: Redukcja elementów do pojedynczej wartości (z `functools`).\n",
    "  ```python\n",
    "  from functools import reduce\n",
    "  print(reduce(lambda x, y: x + y, [1, 2, 3]))  # 6\n",
    "  ```\n",
    "\n",
    "---\n",
    "\n",
    "### **4. Funkcje logiczne i porównawcze**\n",
    "\n",
    "- **`all()`**: Sprawdza, czy wszystkie elementy są prawdziwe.\n",
    "  ```python\n",
    "  print(all([True, True, False]))  # False\n",
    "  ```\n",
    "- **`any()`**: Sprawdza, czy przynajmniej jeden element jest prawdziwy.\n",
    "  ```python\n",
    "  print(any([False, True, False]))  # True\n",
    "  ```\n",
    "- **`id()`**: Zwraca unikalny identyfikator obiektu.\n",
    "  ```python\n",
    "  print(id(123))  # Unikalny ID w pamięci\n",
    "  ```\n",
    "- **`hash()`**: Zwraca wartość skrótu obiektu.\n",
    "  ```python\n",
    "  print(hash(\"test\"))  # Skrót liczbowy\n",
    "  ```\n",
    "\n",
    "---\n",
    "\n",
    "### **5. Operacje wejścia/wyjścia**\n",
    "\n",
    "- **`print()`**: Wyświetla dane na ekranie.\n",
    "  ```python\n",
    "  print(\"Hello, world!\")\n",
    "  ```\n",
    "- **`input()`**: Pobiera dane od użytkownika.\n",
    "  ```python\n",
    "  name = input(\"What is your name? \")\n",
    "  print(f\"Hello, {name}!\")\n",
    "  ```\n",
    "- **`open()`**: Otwiera plik do odczytu/zapisu.\n",
    "  ```python\n",
    "  with open(\"file.txt\", \"r\") as f:\n",
    "      print(f.read())\n",
    "  ```\n",
    "\n",
    "---\n",
    "\n",
    "### **6. Funkcje pomocnicze i diagnostyczne**\n",
    "\n",
    "- **`help()`**: Wyświetla dokumentację.\n",
    "  ```python\n",
    "  help(len)\n",
    "  ```\n",
    "- **`dir()`**: Zwraca listę atrybutów obiektu.\n",
    "  ```python\n",
    "  print(dir(str))\n",
    "  ```\n",
    "- **`vars()`**: Zwraca słownik atrybutów obiektu.\n",
    "  ```python\n",
    "  print(vars())\n",
    "  ```\n",
    "- **`callable()`**: Sprawdza, czy obiekt jest wywoływalny (funkcja, metoda itp.).\n",
    "  ```python\n",
    "  print(callable(len))  # True\n",
    "  ```\n",
    "\n",
    "---\n",
    "\n",
    "### **Podsumowanie**\n",
    "\n",
    "Funkcje wbudowane w Pythonie są wszechstronne i potężne, upraszczając codzienne operacje. Dzięki nim możesz:\n",
    "- Przekształcać dane,\n",
    "- Operować na strukturach danych,\n",
    "- Zarządzać iteracjami,\n",
    "- Wykonywać operacje matematyczne,\n",
    "- Uzyskiwać pomoc dotyczącą funkcji i modułów.\n",
    "\n",
    "Ich znajomość pozwala pisać bardziej czytelny i wydajny kod. Chcesz omówić którąś z funkcji szczegółowo lub zobaczyć konkretne przykłady?"
   ]
  },
  {
   "cell_type": "markdown",
   "metadata": {},
   "source": [
    "## Funkcje jako obywatel pierwszej kategorii (*first-class citizens*)\n",
    "\n",
    "W Pythonie funkcje są traktowane jako obiekty pierwszej kategorii, co oznacza, że można je:\n",
    "1. Przechowywać w zmiennych,\n",
    "2. Przekazywać jako argumenty do innych funkcji,\n",
    "3. Zwracać z innych funkcji,\n",
    "4. Przechowywać w strukturach danych (np. listach, słownikach).\n",
    "\n",
    "---\n"
   ]
  },
  {
   "cell_type": "markdown",
   "metadata": {},
   "source": [
    "\n",
    "### **1. Funkcje jako zmienne**\n",
    "Funkcje w Pythonie można przypisywać do zmiennych, tak samo jak inne obiekty.\n",
    "\n",
    "#### **Przykład:**\n",
    "```python\n",
    "def greet(name):\n",
    "    return f\"Hello, {name}!\"\n",
    "\n",
    "# Przypisanie funkcji do zmiennej\n",
    "say_hello = greet\n",
    "\n",
    "print(say_hello(\"Alice\"))  # Hello, Alice!\n",
    "```\n",
    "\n",
    "#### **Ćwiczenie:**\n",
    "Przypisz funkcję `len` do zmiennej `length_calculator`, a następnie użyj jej do obliczenia długości różnych stringów.\n",
    "\n",
    "#### **Ćwiczenie:**\n",
    "Widzimy, że funkcję można przypisać do zmiennej. Czy możemy więc nadpisać funkcje wbudowane? np. `len`, `print`, `range`?\n",
    "\n",
    "\n",
    "---\n"
   ]
  },
  {
   "cell_type": "markdown",
   "metadata": {},
   "source": [
    "### **2. Funkcje jako argumenty**\n",
    "Funkcje można przekazywać jako argumenty do innych funkcji. Jest to powszechnie stosowane w wyższego rzędu funkcjach, takich jak `map`, `filter`, czy `sorted`.\n",
    "\n",
    "#### **Przykład:**\n",
    "```python\n",
    "def apply_function(func, value):\n",
    "    return func(value)\n",
    "\n",
    "def square(x):\n",
    "    return x ** 2\n",
    "\n",
    "result = apply_function(square, 5)\n",
    "print(result)  # 25\n",
    "```\n",
    "\n",
    "#### **Ćwiczenie:**\n",
    "Napisz funkcję `apply_twice`, która przyjmuje funkcję i wartość, a następnie stosuje tę funkcję dwa razy do podanej wartości.  \n",
    "\n",
    "##### **Przykład**: \n",
    "\n",
    "`apply_twice(square, 2)` → `16`.\n",
    "\n",
    "---\n"
   ]
  },
  {
   "cell_type": "markdown",
   "metadata": {},
   "source": [
    "\n",
    "### **3. Funkcje jako zwracane wartości**\n",
    "Funkcje mogą zwracać inne funkcje, co umożliwia dynamiczne tworzenie funkcji lub implementację tzw. fabryk funkcji.\n",
    "\n",
    "#### **Przykład: Fabryka funkcji**\n",
    "```python\n",
    "def power_factory(exponent):\n",
    "    def power(base):\n",
    "        return base ** exponent\n",
    "    return power\n",
    "\n",
    "square = power_factory(2)\n",
    "cube = power_factory(3)\n",
    "\n",
    "print(square(4))  # 16\n",
    "print(cube(2))    # 8\n",
    "```\n",
    "\n",
    "#### **Ćwiczenie:**\n",
    "Stwórz funkcję `greeting_factory`, która generuje funkcję przyjmującą imię i zwracającą powitanie w określonym języku.  \n",
    "\n",
    "**Przykład:** `greeting_factory(\"fr\")(\"Alice\")` → `Bonjour, Alice!`.\n",
    "\n",
    "---\n"
   ]
  },
  {
   "cell_type": "code",
   "execution_count": null,
   "metadata": {},
   "outputs": [],
   "source": [
    "def greeting_factory(language):\n",
    "    greetings = {\n",
    "        \"en\": \"Hello\",\n",
    "        \"fr\": \"Bonjour\",\n",
    "        \"de\": \"Hallo\",\n",
    "    }\n",
    "\n",
    "\n",
    "    def greeting(name):\n",
    "        return f\"{greetings[language]}, {name}!\"\n",
    "    return greeting\n",
    "\n",
    "greeting_factory(\"fr\")(\"Alice\")"
   ]
  },
  {
   "cell_type": "markdown",
   "metadata": {},
   "source": []
  },
  {
   "cell_type": "markdown",
   "metadata": {},
   "source": [
    "\n",
    "\n",
    "### **4. Funkcje w strukturach danych**\n",
    "Funkcje mogą być przechowywane w listach, słownikach czy innych strukturach danych.\n",
    "\n",
    "#### **Przykład: Słownik jako rejestr funkcji**\n",
    "```python\n",
    "def add(x, y):\n",
    "    return x + y\n",
    "\n",
    "def subtract(x, y):\n",
    "    return x - y\n",
    "\n",
    "operations = {\n",
    "    \"add\": add,\n",
    "    \"subtract\": subtract,\n",
    "}\n",
    "\n",
    "print(operations[\"add\"](10, 5))      # 15\n",
    "print(operations[\"subtract\"](10, 5))  # 5\n",
    "```\n",
    "\n",
    "#### **Ćwiczenie:**\n",
    "Stwórz listę funkcji (`[square, cube]`) i użyj ich do przetwarzania liczb w pętli.\n",
    "Wynikiem ma być stosunek sumy kwadratów do sumy sześcianów.\n",
    "\n",
    "---\n"
   ]
  },
  {
   "cell_type": "markdown",
   "metadata": {},
   "source": [
    "\n",
    "### **5. Łańcuchowe wywoływanie funkcji**\n",
    "Kombinując powyższe techniki, można dynamicznie budować przepływy operacji.\n",
    "\n",
    "#### **Przykład: Pipeline operacji**\n",
    "```python\n",
    "def double(x):\n",
    "    return x * 2\n",
    "\n",
    "def increment(x):\n",
    "    return x + 1\n",
    "\n",
    "def apply_pipeline(value, functions):\n",
    "    for func in functions:\n",
    "        value = func(value)\n",
    "    return value\n",
    "\n",
    "pipeline = [double, increment, square]\n",
    "result = apply_pipeline(3, pipeline)\n",
    "print(result)  # 64 ((3*2 + 1)^2)\n",
    "```\n",
    "\n",
    "#### **Ćwiczenie:**\n",
    "Zaprojektuj pipeline dla listy stringów, który:\n",
    "1. Usuwa białe znaki (`strip`),\n",
    "2. Zamienia litery na wielkie (`upper`),\n",
    "3. Dodaje prefix \"PROCESSED: \".\n",
    "\n",
    "---\n"
   ]
  },
  {
   "cell_type": "markdown",
   "metadata": {},
   "source": [
    "### **Podsumowanie korzyści traktowania funkcji jako obywateli pierwszej kategorii**\n",
    "1. **Elastyczność**: Funkcje mogą być używane w różnych kontekstach, co zwiększa ich wszechstronność.\n",
    "2. **Reużywalność**: Dynamiczne budowanie funkcjonalności pozwala na łatwe rozszerzanie kodu.\n",
    "3. **Czystość kodu**: Ułatwia dzielenie kodu na małe, dobrze zdefiniowane jednostki.\n",
    "\n",
    "---"
   ]
  },
  {
   "cell_type": "markdown",
   "metadata": {},
   "source": [
    "### Zadanie 01 -  **Dynamiczny System Przetwarzania Zamówień**\n",
    "\n",
    "Stwórz aplikację, która realizuje system przetwarzania zamówień. System wykorzystuje funkcje jako obywateli pierwszej kategorii, aby dynamicznie dobierać logikę przetwarzania dla różnych typów zamówień i produktów.\n",
    "\n",
    "#### **Opis problemu**\n",
    "\n",
    "Masz listę zamówień, gdzie każde zamówienie to słownik zawierający informacje o:\n",
    "- Produkcie (`product`),\n",
    "- Typie zamówienia (`type`),\n",
    "- Kwocie (`amount`).\n",
    "\n",
    "pojedyncze zamówienie to słownik: \n",
    "\n",
    "```python\n",
    "{\"product\": \"Laptop\", \"type\": \"online\", \"category\": \"electronics\", \"amount\": 1200}\n",
    "```\n",
    "\n",
    "Chcesz napisać system, który:\n",
    "1. Dynamicznie wybiera odpowiednią logikę przetwarzania w zależności od **typu zamówienia** (np. `online`, `store`, `vip`). \n",
    "   Dla zamówienia typu `online` należy dodać opłatę za przesyłkę (10 PLN), dla `store` dodać 5% rabatu, a dla `vip` dodać 10% rabatu, ale o ile wartość zamówienia to 100 PLN lub więcej.\n",
    "\n",
    "2. Dla każdego produktu, w zależności od **kategorii produktu** (np. `electronics`, `books`, `furniture`), stosuje odpowiednie reguły podatkowe (np. 15%, 5%, 10%).\n",
    "   Podatek należy obliczyć od wartości zamówienia po przetworzeniu (rabat i opłata za przesyłkę).\n",
    "\n",
    "3. Zwraca podsumowanie przetworzonych zamówień, w tym:\n",
    "   - Całkowitą wartość zamówień (po podatkach),\n",
    "   - Liczbę zamówień przetworzonych dla każdego typu.\n",
    "\n",
    "\n",
    "#### **Przykład danych wejściowych**\n",
    "```python\n",
    "orders = [\n",
    "    {\"product\": \"Laptop\", \"type\": \"online\", \"category\": \"electronics\", \"amount\": 1200},\n",
    "    {\"product\": \"Chair\", \"type\": \"store\", \"category\": \"furniture\", \"amount\": 300},\n",
    "    {\"product\": \"Book\", \"type\": \"vip\", \"category\": \"books\", \"amount\": 50},\n",
    "    {\"product\": \"Phone\", \"type\": \"online\", \"category\": \"electronics\", \"amount\": 800},\n",
    "    {\"product\": \"Table\", \"type\": \"store\", \"category\": \"furniture\", \"amount\": 500},\n",
    "]\n",
    "```\n",
    "\n",
    "#### przykładowe wyniki\n",
    "\n",
    "\n",
    "\n",
    "#### **Wymagania**\n",
    "\n",
    "1. **Funkcje jako obiekty**: \n",
    "   - Zaimplementuj funkcje przetwarzające zamówienia dla różnych typów (`online`, `store`, `vip`) i przechowuj je w słowniku.\n",
    "\n",
    "2. **Funkcje jako argumenty**: \n",
    "   - Stwórz funkcję `process_order`, która przyjmuje zamówienie i logikę przetwarzania jako argument.\n",
    "   - stwórz funkcję `process_orders`, która przyjmie listę zamówień i zwróci podsumowanie. \n",
    "     Wynik działania podsumowania powinien wyglądać następująco\n",
    "      ```shell\n",
    "      Podsumowanie zamówień:\n",
    "      {'total_value': 2880.0, 'total_tax': 384.0, 'order_count_by_type': {'online': 2, 'store': 2, 'vip': 1}}\n",
    "      ```   \n",
    "\n",
    "3. **Funkcje jako zwracane wartości**: \n",
    "   - Stwórz fabrykę funkcji podatkowych. Dla każdej kategorii produktów powinna być zwrócona funkcja obliczająca podatek (np. `electronics: 15%`, `books: 5%`, `furniture: 10%`).\n",
    "\n",
    "4. **Funkcje w strukturach danych**:\n",
    "   - Wykorzystaj słownik do przechowywania reguł podatkowych.\n",
    "\n",
    "\n",
    "5. **Wyświetl podsumowanie szczegółowe**: \n",
    "   - Wyświetl podsumowanie szczegółówe w formie tabeli.\n",
    "\n",
    "   **Przykładowy wynik**\n",
    "   ```\n",
    "   +-----------+--------+-------------+----------+--------------+----------------+\n",
    "   | Product   | Type   | Category    |   Amount |   Tax Amount |   Tax Rate (%) |\n",
    "   +===========+========+=============+==========+==============+================+\n",
    "   | Laptop    | online | electronics |     1210 |        181.5 |             15 |\n",
    "   +-----------+--------+-------------+----------+--------------+----------------+\n",
    "   | Chair     | store  | furniture   |      285 |         28.5 |             10 |\n",
    "   +-----------+--------+-------------+----------+--------------+----------------+\n",
    "   | Book      | vip    | books       |       50 |          2.5 |              5 |\n",
    "   +-----------+--------+-------------+----------+--------------+----------------+\n",
    "   | Phone     | online | electronics |      810 |        121.5 |             15 |\n",
    "   +-----------+--------+-------------+----------+--------------+----------------+\n",
    "   | Table     | store  | furniture   |      475 |         47.5 |             10 |\n",
    "   +-----------+--------+-------------+----------+--------------+----------------+\n",
    "   ```\n",
    "\n",
    "\n",
    "---\n",
    "\n",
    "\n",
    "#### **Plan rozwiązania**\n",
    "\n",
    "1. **Stwórz funkcje przetwarzania zamówień**:\n",
    "   - `process_online_order`: Dodaje opłatę za przesyłkę (10 PLN).\n",
    "   - `process_store_order`: Daje 5% rabatu.\n",
    "   - `process_vip_order`: Daje 10% rabatu, ale minimum wartość zamówienia to 100 PLN.\n",
    "\n",
    "2. **Stwórz fabrykę funkcji dla podatków**:\n",
    "   - Funkcje generują różne reguły podatkowe w zależności od kategorii.\n",
    "\n",
    "3. **Połącz wszystko w `process_orders`**:\n",
    "   - Dla każdego zamówienia wybierz odpowiednie funkcje przetwarzania i podatkowe.\n",
    "   - Oblicz wartość zamówienia po przetworzeniu i podatków\n",
    "\n",
    "\n",
    "\n"
   ]
  },
  {
   "cell_type": "code",
   "execution_count": 1,
   "metadata": {},
   "outputs": [
    {
     "ename": "NameError",
     "evalue": "name 'summary' is not defined",
     "output_type": "error",
     "traceback": [
      "\u001b[0;31m---------------------------------------------------------------------------\u001b[0m",
      "\u001b[0;31mNameError\u001b[0m                                 Traceback (most recent call last)",
      "Cell \u001b[0;32mIn[1], line 49\u001b[0m\n\u001b[1;32m     40\u001b[0m \u001b[38;5;66;03m# Przetwarzanie zamówień\u001b[39;00m\n\u001b[1;32m     41\u001b[0m orders \u001b[38;5;241m=\u001b[39m [\n\u001b[1;32m     42\u001b[0m     {\u001b[38;5;124m\"\u001b[39m\u001b[38;5;124mproduct\u001b[39m\u001b[38;5;124m\"\u001b[39m: \u001b[38;5;124m\"\u001b[39m\u001b[38;5;124mLaptop\u001b[39m\u001b[38;5;124m\"\u001b[39m, \u001b[38;5;124m\"\u001b[39m\u001b[38;5;124mtype\u001b[39m\u001b[38;5;124m\"\u001b[39m: \u001b[38;5;124m\"\u001b[39m\u001b[38;5;124monline\u001b[39m\u001b[38;5;124m\"\u001b[39m, \u001b[38;5;124m\"\u001b[39m\u001b[38;5;124mcategory\u001b[39m\u001b[38;5;124m\"\u001b[39m: \u001b[38;5;124m\"\u001b[39m\u001b[38;5;124melectronics\u001b[39m\u001b[38;5;124m\"\u001b[39m, \u001b[38;5;124m\"\u001b[39m\u001b[38;5;124mamount\u001b[39m\u001b[38;5;124m\"\u001b[39m: \u001b[38;5;241m1200\u001b[39m},\n\u001b[1;32m     43\u001b[0m     {\u001b[38;5;124m\"\u001b[39m\u001b[38;5;124mproduct\u001b[39m\u001b[38;5;124m\"\u001b[39m: \u001b[38;5;124m\"\u001b[39m\u001b[38;5;124mChair\u001b[39m\u001b[38;5;124m\"\u001b[39m, \u001b[38;5;124m\"\u001b[39m\u001b[38;5;124mtype\u001b[39m\u001b[38;5;124m\"\u001b[39m: \u001b[38;5;124m\"\u001b[39m\u001b[38;5;124mstore\u001b[39m\u001b[38;5;124m\"\u001b[39m, \u001b[38;5;124m\"\u001b[39m\u001b[38;5;124mcategory\u001b[39m\u001b[38;5;124m\"\u001b[39m: \u001b[38;5;124m\"\u001b[39m\u001b[38;5;124mfurniture\u001b[39m\u001b[38;5;124m\"\u001b[39m, \u001b[38;5;124m\"\u001b[39m\u001b[38;5;124mamount\u001b[39m\u001b[38;5;124m\"\u001b[39m: \u001b[38;5;241m300\u001b[39m},\n\u001b[0;32m   (...)\u001b[0m\n\u001b[1;32m     46\u001b[0m     {\u001b[38;5;124m\"\u001b[39m\u001b[38;5;124mproduct\u001b[39m\u001b[38;5;124m\"\u001b[39m: \u001b[38;5;124m\"\u001b[39m\u001b[38;5;124mTable\u001b[39m\u001b[38;5;124m\"\u001b[39m, \u001b[38;5;124m\"\u001b[39m\u001b[38;5;124mtype\u001b[39m\u001b[38;5;124m\"\u001b[39m: \u001b[38;5;124m\"\u001b[39m\u001b[38;5;124mstore\u001b[39m\u001b[38;5;124m\"\u001b[39m, \u001b[38;5;124m\"\u001b[39m\u001b[38;5;124mcategory\u001b[39m\u001b[38;5;124m\"\u001b[39m: \u001b[38;5;124m\"\u001b[39m\u001b[38;5;124mfurniture\u001b[39m\u001b[38;5;124m\"\u001b[39m, \u001b[38;5;124m\"\u001b[39m\u001b[38;5;124mamount\u001b[39m\u001b[38;5;124m\"\u001b[39m: \u001b[38;5;241m500\u001b[39m},\n\u001b[1;32m     47\u001b[0m ]\n\u001b[0;32m---> 49\u001b[0m summary \u001b[38;5;241m=\u001b[39m \u001b[43mprocess_orders\u001b[49m\u001b[43m(\u001b[49m\u001b[43morders\u001b[49m\u001b[43m)\u001b[49m\n\u001b[1;32m     50\u001b[0m \u001b[38;5;28mprint\u001b[39m(\u001b[38;5;124m\"\u001b[39m\u001b[38;5;124mPodsumowanie zamówień:\u001b[39m\u001b[38;5;124m\"\u001b[39m, summary)\n\u001b[1;32m     53\u001b[0m \u001b[38;5;28;01mfrom\u001b[39;00m \u001b[38;5;21;01mtabulate\u001b[39;00m \u001b[38;5;28;01mimport\u001b[39;00m tabulate\n",
      "Cell \u001b[0;32mIn[1], line 38\u001b[0m, in \u001b[0;36mprocess_orders\u001b[0;34m(orders)\u001b[0m\n\u001b[1;32m     35\u001b[0m \u001b[38;5;28;01mdef\u001b[39;00m \u001b[38;5;21mprocess_orders\u001b[39m(orders):\n\u001b[1;32m     36\u001b[0m     \u001b[38;5;241m.\u001b[39m\u001b[38;5;241m.\u001b[39m\u001b[38;5;241m.\u001b[39m\n\u001b[0;32m---> 38\u001b[0m     \u001b[38;5;28;01mreturn\u001b[39;00m \u001b[43msummary\u001b[49m\n",
      "\u001b[0;31mNameError\u001b[0m: name 'summary' is not defined"
     ]
    }
   ],
   "source": [
    "from rich import print\n",
    "\n",
    "# Funkcje przetwarzające zamówienia\n",
    "def process_online_order(order):\n",
    "    ...\n",
    "\n",
    "def process_store_order(order):\n",
    "    ...\n",
    "\n",
    "def process_vip_order(order):\n",
    "    ...\n",
    "\n",
    "# Słownik typów zamówień\n",
    "order_processors = {\n",
    "\n",
    "}\n",
    "\n",
    "# Fabryka funkcji dla podatków\n",
    "def tax_factory(rate):\n",
    "    ...\n",
    "\n",
    "# Słownik reguł podatkowych\n",
    "tax_rules = {\n",
    "    \"electronics\": tax_factory(15),\n",
    "    \"books\": tax_factory(5),\n",
    "    \"furniture\": tax_factory(10),\n",
    "}\n",
    "\n",
    "# Funkcja do przetwarzania jednego zamówienia\n",
    "def process_order(order, order_processor, tax_calculator):\n",
    "    ...\n",
    "    return order\n",
    "\n",
    "# Funkcja główna\n",
    "def process_orders(orders):\n",
    "    ...\n",
    "\n",
    "    return summary\n",
    "\n",
    "# Przetwarzanie zamówień\n",
    "orders = [\n",
    "    {\"product\": \"Laptop\", \"type\": \"online\", \"category\": \"electronics\", \"amount\": 1200},\n",
    "    {\"product\": \"Chair\", \"type\": \"store\", \"category\": \"furniture\", \"amount\": 300},\n",
    "    {\"product\": \"Book\", \"type\": \"vip\", \"category\": \"books\", \"amount\": 50},\n",
    "    {\"product\": \"Phone\", \"type\": \"online\", \"category\": \"electronics\", \"amount\": 800},\n",
    "    {\"product\": \"Table\", \"type\": \"store\", \"category\": \"furniture\", \"amount\": 500},\n",
    "]\n",
    "\n",
    "summary = process_orders(orders)\n",
    "print(\"Podsumowanie zamówień:\", summary)\n",
    "\n",
    "\n",
    "from tabulate import tabulate\n",
    "\n",
    "# Funkcja do generowania i wyświetlania szczegółowego podsumowania w formie tabeli\n",
    "def display_summary_table(orders):\n",
    "    table_data = [\n",
    "        {\n",
    "            \"Product\": order[\"product\"],\n",
    "            \"Type\": order[\"type\"],\n",
    "            \"Category\": order[\"category\"],\n",
    "            \"Amount\": round(order[\"amount\"], 2),\n",
    "            \"Tax Amount\": round(order[\"tax_amount\"], 2),\n",
    "            \"Tax Rate (%)\": order[\"tax_rate\"],\n",
    "        }\n",
    "        for order in orders\n",
    "    ]\n",
    "\n",
    "    # Tworzenie tabeli\n",
    "    return tabulate(table_data, headers=\"keys\", tablefmt=\"grid\")\n",
    "\n",
    "print(display_summary_table(orders))"
   ]
  },
  {
   "cell_type": "markdown",
   "metadata": {},
   "source": [
    "\n",
    "\n",
    "---\n",
    "\n",
    "\n",
    "#### **Ćwiczenie dodatkowe** - do samodzielnego wykonania po kursie\n",
    "\n",
    "1. Dodaj nowy typ zamówienia `bulk`, w którym:\n",
    "   - Jeśli liczba zamówień przekracza 3, każde zamówienie ma dodatkowy rabat 10%.\n",
    "2. Dodaj nową kategorię produktu `food` z podatkiem 8%.\n",
    "3. Rozszerz podsumowanie o listę produktów przetworzonych dla każdego typu zamówienia.\n",
    "4. Exportuj podsumowanie do pliku CSV.\n",
    "\n",
    "\n",
    "\n",
    "\n"
   ]
  },
  {
   "cell_type": "markdown",
   "metadata": {},
   "source": [
    "#### **Kod rozwiązania**# "
   ]
  },
  {
   "cell_type": "code",
   "execution_count": null,
   "metadata": {},
   "outputs": [],
   "source": [
    "# !pip install rich"
   ]
  },
  {
   "cell_type": "code",
   "execution_count": 2,
   "metadata": {},
   "outputs": [
    {
     "data": {
      "text/html": [
       "<pre style=\"white-space:pre;overflow-x:auto;line-height:normal;font-family:Menlo,'DejaVu Sans Mono',consolas,'Courier New',monospace\">Podsumowanie zamówień:\n",
       "<span style=\"font-weight: bold\">{</span><span style=\"color: #008000; text-decoration-color: #008000\">'total_value'</span>: <span style=\"color: #008080; text-decoration-color: #008080; font-weight: bold\">2830.0</span>, <span style=\"color: #008000; text-decoration-color: #008000\">'total_tax'</span>: <span style=\"color: #008080; text-decoration-color: #008080; font-weight: bold\">381.5</span>, <span style=\"color: #008000; text-decoration-color: #008000\">'order_count_by_type'</span>: <span style=\"font-weight: bold\">{</span><span style=\"color: #008000; text-decoration-color: #008000\">'online'</span>: <span style=\"color: #008080; text-decoration-color: #008080; font-weight: bold\">2</span>, <span style=\"color: #008000; text-decoration-color: #008000\">'store'</span>: <span style=\"color: #008080; text-decoration-color: #008080; font-weight: bold\">2</span>, <span style=\"color: #008000; text-decoration-color: #008000\">'vip'</span>: <span style=\"color: #008080; text-decoration-color: #008080; font-weight: bold\">1</span><span style=\"font-weight: bold\">}}</span>\n",
       "</pre>\n"
      ],
      "text/plain": [
       "Podsumowanie zamówień:\n",
       "\u001b[1m{\u001b[0m\u001b[32m'total_value'\u001b[0m: \u001b[1;36m2830.0\u001b[0m, \u001b[32m'total_tax'\u001b[0m: \u001b[1;36m381.5\u001b[0m, \u001b[32m'order_count_by_type'\u001b[0m: \u001b[1m{\u001b[0m\u001b[32m'online'\u001b[0m: \u001b[1;36m2\u001b[0m, \u001b[32m'store'\u001b[0m: \u001b[1;36m2\u001b[0m, \u001b[32m'vip'\u001b[0m: \u001b[1;36m1\u001b[0m\u001b[1m}\u001b[0m\u001b[1m}\u001b[0m\n"
      ]
     },
     "metadata": {},
     "output_type": "display_data"
    }
   ],
   "source": [
    "from rich import print\n",
    "\n",
    "# Funkcje przetwarzające zamówienia\n",
    "def process_online_order(order):\n",
    "    order[\"amount\"] += 10  # Opłata za przesyłkę\n",
    "    return order\n",
    "\n",
    "def process_store_order(order):\n",
    "    order[\"amount\"] *= 0.95  # 5% rabatu\n",
    "    return order\n",
    "\n",
    "def process_vip_order(order):\n",
    "    \"\"\"\n",
    "    10% rabatu, o ile wartość zamówienia to 100 PLN lub więcej.\n",
    "    \"\"\"\n",
    "    if order[\"amount\"] >= 100:\n",
    "        order[\"amount\"] *= 0.90  # 10% rabatu\n",
    "    return order\n",
    "\n",
    "# Słownik typów zamówień\n",
    "order_processors = {\n",
    "    \"online\": process_online_order,\n",
    "    \"store\": process_store_order,\n",
    "    \"vip\": process_vip_order,\n",
    "}\n",
    "\n",
    "# Fabryka funkcji dla podatków\n",
    "def tax_factory(rate):\n",
    "    def calculate_tax(amount):\n",
    "        return amount * rate / 100, rate\n",
    "    return calculate_tax\n",
    "\n",
    "# Słownik reguł podatkowych\n",
    "tax_rules = {\n",
    "    \"electronics\": tax_factory(15),\n",
    "    \"books\": tax_factory(5),\n",
    "    \"furniture\": tax_factory(10),\n",
    "}\n",
    "\n",
    "# Funkcja do przetwarzania jednego zamówienia\n",
    "def process_order(order, order_processor, tax_calculator):\n",
    "    # Przetwarzanie zamówienia\n",
    "    order = order_processor(order)\n",
    "    # Obliczanie podatku\n",
    "\n",
    "    tax_amount, tax_rate = tax_calculator(order[\"amount\"])\n",
    "\n",
    "    order[\"tax_rate\"] = tax_rate\n",
    "    order[\"tax_amount\"] = tax_amount\n",
    "    \n",
    "    return order\n",
    "\n",
    "# Funkcja główna\n",
    "def process_orders(orders):\n",
    "    summary = {\"total_value\": 0, \"total_tax\": 0,\"order_count_by_type\": {}}\n",
    "\n",
    "    for order in orders:\n",
    "        # Wybierz odpowiednią logikę przetwarzania\n",
    "        order_processor = order_processors[order[\"type\"]]\n",
    "        tax_calculator = tax_rules[order[\"category\"]]\n",
    "\n",
    "        # Przetwórz zamówienie\n",
    "        processed_order = process_order(order, order_processor, tax_calculator)\n",
    "\n",
    "        # Aktualizuj podsumowanie\n",
    "        summary[\"total_value\"] += processed_order[\"amount\"]\n",
    "        summary[\"total_tax\"] += processed_order[\"tax_amount\"]\n",
    "        summary[\"order_count_by_type\"].setdefault(order[\"type\"], 0)\n",
    "        summary[\"order_count_by_type\"][order[\"type\"]] += 1\n",
    "\n",
    "    return summary\n",
    "\n",
    "# Przetwarzanie zamówień\n",
    "orders = [\n",
    "    {\"product\": \"Laptop\", \"type\": \"online\", \"category\": \"electronics\", \"amount\": 1200},\n",
    "    {\"product\": \"Chair\", \"type\": \"store\", \"category\": \"furniture\", \"amount\": 300},\n",
    "    {\"product\": \"Book\", \"type\": \"vip\", \"category\": \"books\", \"amount\": 50},\n",
    "    {\"product\": \"Phone\", \"type\": \"online\", \"category\": \"electronics\", \"amount\": 800},\n",
    "    {\"product\": \"Table\", \"type\": \"store\", \"category\": \"furniture\", \"amount\": 500},\n",
    "]\n",
    "\n",
    "summary = process_orders(orders)\n",
    "print(\"Podsumowanie zamówień:\", summary)"
   ]
  },
  {
   "cell_type": "code",
   "execution_count": 14,
   "metadata": {},
   "outputs": [],
   "source": [
    "# !pip install tabulate"
   ]
  },
  {
   "cell_type": "code",
   "execution_count": 3,
   "metadata": {},
   "outputs": [
    {
     "data": {
      "text/html": [
       "<pre style=\"white-space:pre;overflow-x:auto;line-height:normal;font-family:Menlo,'DejaVu Sans Mono',consolas,'Courier New',monospace\">+-----------+--------+-------------+----------+--------------+----------------+\n",
       "| Product   | Type   | Category    |   Amount |   Tax Amount |   Tax Rate <span style=\"font-weight: bold\">(</span>%<span style=\"font-weight: bold\">)</span> |\n",
       "+===========+========+=============+==========+==============+================+\n",
       "| Laptop    | online | electronics |     <span style=\"color: #008080; text-decoration-color: #008080; font-weight: bold\">1210</span> |        <span style=\"color: #008080; text-decoration-color: #008080; font-weight: bold\">181.5</span> |             <span style=\"color: #008080; text-decoration-color: #008080; font-weight: bold\">15</span> |\n",
       "+-----------+--------+-------------+----------+--------------+----------------+\n",
       "| Chair     | store  | furniture   |      <span style=\"color: #008080; text-decoration-color: #008080; font-weight: bold\">285</span> |         <span style=\"color: #008080; text-decoration-color: #008080; font-weight: bold\">28.5</span> |             <span style=\"color: #008080; text-decoration-color: #008080; font-weight: bold\">10</span> |\n",
       "+-----------+--------+-------------+----------+--------------+----------------+\n",
       "| Book      | vip    | books       |       <span style=\"color: #008080; text-decoration-color: #008080; font-weight: bold\">50</span> |          <span style=\"color: #008080; text-decoration-color: #008080; font-weight: bold\">2.5</span> |              <span style=\"color: #008080; text-decoration-color: #008080; font-weight: bold\">5</span> |\n",
       "+-----------+--------+-------------+----------+--------------+----------------+\n",
       "| Phone     | online | electronics |      <span style=\"color: #008080; text-decoration-color: #008080; font-weight: bold\">810</span> |        <span style=\"color: #008080; text-decoration-color: #008080; font-weight: bold\">121.5</span> |             <span style=\"color: #008080; text-decoration-color: #008080; font-weight: bold\">15</span> |\n",
       "+-----------+--------+-------------+----------+--------------+----------------+\n",
       "| Table     | store  | furniture   |      <span style=\"color: #008080; text-decoration-color: #008080; font-weight: bold\">475</span> |         <span style=\"color: #008080; text-decoration-color: #008080; font-weight: bold\">47.5</span> |             <span style=\"color: #008080; text-decoration-color: #008080; font-weight: bold\">10</span> |\n",
       "+-----------+--------+-------------+----------+--------------+----------------+\n",
       "</pre>\n"
      ],
      "text/plain": [
       "+-----------+--------+-------------+----------+--------------+----------------+\n",
       "| Product   | Type   | Category    |   Amount |   Tax Amount |   Tax Rate \u001b[1m(\u001b[0m%\u001b[1m)\u001b[0m |\n",
       "+===========+========+=============+==========+==============+================+\n",
       "| Laptop    | online | electronics |     \u001b[1;36m1210\u001b[0m |        \u001b[1;36m181.5\u001b[0m |             \u001b[1;36m15\u001b[0m |\n",
       "+-----------+--------+-------------+----------+--------------+----------------+\n",
       "| Chair     | store  | furniture   |      \u001b[1;36m285\u001b[0m |         \u001b[1;36m28.5\u001b[0m |             \u001b[1;36m10\u001b[0m |\n",
       "+-----------+--------+-------------+----------+--------------+----------------+\n",
       "| Book      | vip    | books       |       \u001b[1;36m50\u001b[0m |          \u001b[1;36m2.5\u001b[0m |              \u001b[1;36m5\u001b[0m |\n",
       "+-----------+--------+-------------+----------+--------------+----------------+\n",
       "| Phone     | online | electronics |      \u001b[1;36m810\u001b[0m |        \u001b[1;36m121.5\u001b[0m |             \u001b[1;36m15\u001b[0m |\n",
       "+-----------+--------+-------------+----------+--------------+----------------+\n",
       "| Table     | store  | furniture   |      \u001b[1;36m475\u001b[0m |         \u001b[1;36m47.5\u001b[0m |             \u001b[1;36m10\u001b[0m |\n",
       "+-----------+--------+-------------+----------+--------------+----------------+\n"
      ]
     },
     "metadata": {},
     "output_type": "display_data"
    }
   ],
   "source": [
    "\n",
    "# Funkcja do generowania i wyświetlania szczegółowego podsumowania w formie tabeli\n",
    "def display_summary_table(orders):\n",
    "    table_data = [\n",
    "        {\n",
    "            \"Product\": order[\"product\"],\n",
    "            \"Type\": order[\"type\"],\n",
    "            \"Category\": order[\"category\"],\n",
    "            \"Amount\": round(order[\"amount\"], 2),\n",
    "            \"Tax Amount\": round(order[\"tax_amount\"], 2),\n",
    "            \"Tax Rate (%)\": order[\"tax_rate\"],\n",
    "        }\n",
    "        for order in orders\n",
    "    ]\n",
    "\n",
    "    # Tworzenie tabeli\n",
    "    return tabulate(table_data, headers=\"keys\", tablefmt=\"grid\")\n",
    "\n",
    "print(display_summary_table(orders))"
   ]
  },
  {
   "cell_type": "markdown",
   "metadata": {},
   "source": [
    "### Funkcje rekurencyjne\n"
   ]
  },
  {
   "cell_type": "code",
   "execution_count": 1,
   "metadata": {},
   "outputs": [],
   "source": [
    "def factorial(n: int) -> int:\n",
    "    \"\"\"Obliczanie silni rekurencyjnie\"\"\"\n",
    "    if n <= 1:\n",
    "        return 1\n",
    "    return n * factorial(n - 1)\n",
    "\n",
    "def fibonacci(n: int) -> int:\n",
    "    \"\"\"Ciąg Fibonacciego rekurencyjnie\"\"\"\n",
    "    if n <= 1:\n",
    "        return n\n",
    "    return fibonacci(n-1) + fibonacci(n-2)\n",
    "\n"
   ]
  },
  {
   "cell_type": "markdown",
   "metadata": {},
   "source": [
    "#### Optymalizacja rekurencji\n",
    "\n",
    "Dla dużych wartości n, rekurencja może być bardzo kosztowna obliczeniowo.\n",
    "Stosujemy cache do zapamiętania wyników funkcji dla konkretnych argumentów.\n",
    "Dzięki temu, funkcja nie będzie wykonywana ponownie dla tych samych argumentów.\n"
   ]
  },
  {
   "cell_type": "code",
   "execution_count": 2,
   "metadata": {},
   "outputs": [],
   "source": [
    "\n",
    "from functools import lru_cache\n",
    "\n",
    "@lru_cache(maxsize=None)\n",
    "def fibonacci_cached(n: int) -> int:\n",
    "    \"\"\"Zoptymalizowana wersja z cache\"\"\"\n",
    "    if n <= 1:\n",
    "        return n\n",
    "    return fibonacci_cached(n-1) + fibonacci_cached(n-2)\n"
   ]
  },
  {
   "cell_type": "markdown",
   "metadata": {},
   "source": [
    "## **Domknięcia (Closures) w Pythonie**\n",
    "\n",
    "Domknięcie to funkcja, która \"zapamiętuje\" kontekst, w którym została utworzona, nawet jeśli ten kontekst przestanie istnieć po zakończeniu działania funkcji. Dzięki temu domknięcia mogą przechowywać stan, co pozwala na tworzenie bardziej elastycznego i dynamicznego kodu.\n"
   ]
  },
  {
   "cell_type": "markdown",
   "metadata": {},
   "source": [
    "\n",
    "\n",
    "\n",
    "### **Jak działają domknięcia?**\n",
    "\n",
    "Domknięcie składa się z:\n",
    "1. Funkcji wewnętrznej (*nested function*), która korzysta z zmiennych zdefiniowanych w funkcji zewnętrznej.\n",
    "2. Zmiennych funkcji zewnętrznej, które są \"zamknięte\" w pamięci i dostępne dla funkcji wewnętrznej, nawet po zakończeniu wykonania funkcji zewnętrznej.\n",
    "\n",
    "\n"
   ]
  },
  {
   "cell_type": "markdown",
   "metadata": {},
   "source": [
    "\n",
    "### **Przykład domknięcia**\n",
    "\n",
    "```python\n",
    "def multiplier(factor):\n",
    "    def multiply_by_factor(number):\n",
    "        return number * factor\n",
    "    return multiply_by_factor\n",
    "\n",
    "# Tworzymy funkcję, która mnoży przez 2\n",
    "times_two = multiplier(2)\n",
    "\n",
    "# Tworzymy funkcję, która mnoży przez 3\n",
    "times_three = multiplier(3)\n",
    "\n",
    "print(times_two(10))  # 20\n",
    "print(times_three(10))  # 30\n",
    "```\n",
    "\n",
    "#### **Jak to działa?**\n",
    "- Funkcja `multiplier` przyjmuje argument `factor` i zwraca funkcję `multiply_by_factor`.\n",
    "- `multiply_by_factor` ma dostęp do zmiennej `factor`, ponieważ jest ona \"zamknięta\" w kontekście domknięcia.\n",
    "- `times_two` i `times_three` przechowują różne wartości `factor` (odpowiednio `2` i `3`), dzięki czemu działają niezależnie.\n"
   ]
  },
  {
   "cell_type": "markdown",
   "metadata": {},
   "source": [
    "\n",
    "---\n",
    "\n",
    "### **Zastosowania domknięć**\n",
    "\n",
    "#### **1. Przechowywanie stanu**\n",
    "\n",
    "Domknięcia mogą być używane do tworzenia funkcji, które pamiętają swój stan między wywołaniami.\n"
   ]
  },
  {
   "cell_type": "code",
   "execution_count": 23,
   "metadata": {},
   "outputs": [
    {
     "data": {
      "text/html": [
       "<pre style=\"white-space:pre;overflow-x:auto;line-height:normal;font-family:Menlo,'DejaVu Sans Mono',consolas,'Courier New',monospace\"><span style=\"color: #008080; text-decoration-color: #008080; font-weight: bold\">1</span>\n",
       "</pre>\n"
      ],
      "text/plain": [
       "\u001b[1;36m1\u001b[0m\n"
      ]
     },
     "metadata": {},
     "output_type": "display_data"
    },
    {
     "data": {
      "text/html": [
       "<pre style=\"white-space:pre;overflow-x:auto;line-height:normal;font-family:Menlo,'DejaVu Sans Mono',consolas,'Courier New',monospace\"><span style=\"color: #008080; text-decoration-color: #008080; font-weight: bold\">2</span>\n",
       "</pre>\n"
      ],
      "text/plain": [
       "\u001b[1;36m2\u001b[0m\n"
      ]
     },
     "metadata": {},
     "output_type": "display_data"
    },
    {
     "data": {
      "text/html": [
       "<pre style=\"white-space:pre;overflow-x:auto;line-height:normal;font-family:Menlo,'DejaVu Sans Mono',consolas,'Courier New',monospace\"><span style=\"color: #008080; text-decoration-color: #008080; font-weight: bold\">3</span>\n",
       "</pre>\n"
      ],
      "text/plain": [
       "\u001b[1;36m3\u001b[0m\n"
      ]
     },
     "metadata": {},
     "output_type": "display_data"
    }
   ],
   "source": [
    "\n",
    "def counter():\n",
    "    count = 0\n",
    "\n",
    "    def increment():\n",
    "        nonlocal count\n",
    "        count += 1\n",
    "        return count\n",
    "\n",
    "    return increment\n",
    "\n",
    "# Tworzymy licznik\n",
    "counter_instance = counter()\n",
    "\n",
    "print(counter_instance())  # 1\n",
    "print(counter_instance())  # 2\n",
    "print(counter_instance())  # 3\n"
   ]
  },
  {
   "cell_type": "code",
   "execution_count": 24,
   "metadata": {},
   "outputs": [
    {
     "data": {
      "text/html": [
       "<pre style=\"white-space:pre;overflow-x:auto;line-height:normal;font-family:Menlo,'DejaVu Sans Mono',consolas,'Courier New',monospace\"><span style=\"color: #008080; text-decoration-color: #008080; font-weight: bold\">1</span>\n",
       "</pre>\n"
      ],
      "text/plain": [
       "\u001b[1;36m1\u001b[0m\n"
      ]
     },
     "metadata": {},
     "output_type": "display_data"
    }
   ],
   "source": [
    "counter_instance2 = counter()\n",
    "\n",
    "print(counter_instance2())  # 1"
   ]
  },
  {
   "cell_type": "markdown",
   "metadata": {},
   "source": [
    "\n",
    "\n",
    "- Funkcja `increment` ma dostęp do zmiennej `count` z funkcji `counter`, nawet po jej zakończeniu.\n"
   ]
  },
  {
   "cell_type": "markdown",
   "metadata": {},
   "source": [
    "\n",
    "---\n",
    "\n",
    "#### **2. Fabryki funkcji**\n",
    "\n",
    "Domknięcia są często używane do tworzenia tzw. fabryk funkcji, które generują nowe funkcje w zależności od podanych argumentów.\n",
    "\n",
    "```python\n",
    "def greeting_factory(language):\n",
    "    def greeting(name):\n",
    "        if language == \"en\":\n",
    "            return f\"Hello, {name}!\"\n",
    "        elif language == \"es\":\n",
    "            return f\"Hola, {name}!\"\n",
    "        elif language == \"fr\":\n",
    "            return f\"Bonjour, {name}!\"\n",
    "    return greeting\n",
    "\n",
    "english_greeting = greeting_factory(\"en\")\n",
    "spanish_greeting = greeting_factory(\"es\")\n",
    "\n",
    "print(english_greeting(\"Alice\"))  # Hello, Alice!\n",
    "print(spanish_greeting(\"Alice\"))  # Hola, Alice!\n",
    "```\n",
    "\n",
    "- Funkcja `greeting_factory` generuje funkcje powitania w różnych językach.\n"
   ]
  },
  {
   "cell_type": "markdown",
   "metadata": {},
   "source": [
    "\n",
    "---\n",
    "\n",
    "#### **3. Dekoratory**\n",
    "\n",
    "Domknięcia są podstawą dekoratorów w Pythonie. Dekoratory \"opakowują\" funkcję i mogą zmieniać jej zachowanie.\n",
    "\n",
    "```python\n",
    "def timer_decorator(func):\n",
    "    import time\n",
    "\n",
    "    def wrapper(*args, **kwargs):\n",
    "        start_time = time.time()\n",
    "        result = func(*args, **kwargs)\n",
    "        end_time = time.time()\n",
    "        print(f\"Execution time: {end_time - start_time:.2f} seconds\")\n",
    "        return result\n",
    "\n",
    "    return wrapper\n",
    "\n",
    "@timer_decorator\n",
    "def slow_function():\n",
    "    import time\n",
    "    time.sleep(2)\n",
    "    return \"Done!\"\n",
    "\n",
    "print(slow_function())\n",
    "```\n",
    "\n",
    "- Funkcja `timer_decorator` zwraca `wrapper`, które ma dostęp do `func` (funkcji do opakowania).\n"
   ]
  },
  {
   "cell_type": "markdown",
   "metadata": {},
   "source": [
    "\n",
    "---\n",
    "\n",
    "### **Zasięg zmiennych w domknięciach**\n",
    "\n",
    "Aby zmienna z funkcji zewnętrznej była dostępna w funkcji wewnętrznej:\n",
    "1. Jeśli zmienna jest używana, ale nie modyfikowana, domyślnie jest tylko do odczytu.\n",
    "2. Jeśli chcesz modyfikować zmienną, musisz użyć słowa kluczowego `nonlocal`.\n",
    "\n",
    "#### **Przykład: nonlocal**\n",
    "\n",
    "```python\n",
    "def outer_function():\n",
    "    value = 10\n",
    "\n",
    "    def inner_function():\n",
    "        nonlocal value\n",
    "        value += 5\n",
    "        return value\n",
    "\n",
    "    return inner_function\n",
    "\n",
    "incrementer = outer_function()\n",
    "print(incrementer())  # 15\n",
    "print(incrementer())  # 20\n",
    "```\n"
   ]
  },
  {
   "cell_type": "markdown",
   "metadata": {},
   "source": [
    "### Funkcje częściowe (Partial Functions)\n"
   ]
  },
  {
   "cell_type": "markdown",
   "metadata": {},
   "source": [
    "\n",
    "```python\n",
    "from functools import partial\n",
    "\n",
    "def multiply(x, y):\n",
    "    return x * y\n",
    "\n",
    "# Tworzenie funkcji częściowej\n",
    "double = partial(multiply, y=2)\n",
    "triple = partial(multiply, y=3)\n",
    "\n",
    "print(double(4))  # 8\n",
    "print(triple(4))  # 12\n",
    "```"
   ]
  },
  {
   "cell_type": "markdown",
   "metadata": {},
   "source": [
    "\n",
    "---\n",
    "\n",
    "### **Podsumowanie korzyści z użycia domknięć**\n",
    "\n",
    "1. **Przechowywanie stanu**: Domknięcia pozwalają zapamiętać zmienne z kontekstu funkcji zewnętrznej.\n",
    "2. **Elastyczność**: Funkcje wewnętrzne mogą być tworzone dynamicznie i przechowywać różne konfiguracje.\n",
    "3. **Reużywalność**: Fabryki funkcji i dekoratory oparte na domknięciach ułatwiają zarządzanie powtarzalnym kodem.\n"
   ]
  },
  {
   "cell_type": "markdown",
   "metadata": {},
   "source": [
    "\n",
    "---\n",
    "\n",
    "### **Ćwiczenie** - proste domknięcie\n",
    "\n",
    "**Zadanie: Tworzenie liczników z różnymi wartościami początkowymi**\n",
    "\n",
    "Napisz funkcję `create_counter`, która:\n",
    "- Przyjmuje argument `start` (wartość początkowa).\n",
    "- Zwraca funkcję `increment`, która zwiększa licznik o 1 przy każdym wywołaniu i zwraca jego aktualną wartość.\n",
    "\n",
    "**Przykład użycia:**\n",
    "\n",
    "```python\n",
    "counter1 = create_counter(10)\n",
    "counter2 = create_counter(50)\n",
    "\n",
    "print(counter1())  # 11\n",
    "print(counter1())  # 12\n",
    "print(counter2())  # 51\n",
    "``` \n",
    "\n",
    "Daj znać, jeśli chcesz jeszcze bardziej rozwinąć temat!"
   ]
  },
  {
   "cell_type": "markdown",
   "metadata": {},
   "source": [
    "### **Zadanie 02: Budowa dynamicznego routera URL**\n",
    "\n",
    "W tym ćwiczeniu stworzysz dynamiczny router URL, który pozwala przypisywać ścieżki URL do różnych funkcji obsługi. Domknięcia będą używane do przechowywania mapowania URL i pozwolą obsługiwać różne żądania.\n"
   ]
  },
  {
   "cell_type": "markdown",
   "metadata": {},
   "source": [
    "\n",
    "---\n",
    "\n",
    "### **Opis zadania**\n",
    "\n",
    "1. Funkcja `create_router` powinna zwrócić funkcję `route_handler`, która:\n",
    "   - Przypisuje funkcje obsługi do określonych ścieżek URL.\n",
    "   - Obsługuje żądania, wywołując odpowiednią funkcję na podstawie podanego URL.\n",
    "\n",
    "2. Funkcja `route_handler` musi pamiętać mapowanie URL → funkcja obsługi.\n",
    "\n",
    "3. Obsługa żądań:\n",
    "   - Jeśli ścieżka URL nie ma przypisanej funkcji, zwracany jest komunikat \"404: Not Found\".\n"
   ]
  },
  {
   "cell_type": "markdown",
   "metadata": {},
   "source": [
    "\n",
    "---\n",
    "\n",
    "### **Przykład użycia**\n",
    "\n",
    "```python\n",
    "# Tworzymy router\n",
    "router = create_router()\n",
    "\n",
    "# Dodajemy ścieżki\n",
    "router(\"add\", \"/home\", lambda: \"Welcome to the homepage!\")\n",
    "router(\"add\", \"/about\", lambda: \"This is the about page.\")\n",
    "router(\"add\", \"/contact\", lambda: \"Contact us here.\")\n",
    "\n",
    "# Obsługujemy żądania\n",
    "print(router(\"get\", \"/home\"))      # Welcome to the homepage!\n",
    "print(router(\"get\", \"/about\"))     # This is the about page.\n",
    "print(router(\"get\", \"/nonexistent\"))  # 404: Not Found\n",
    "```\n"
   ]
  },
  {
   "cell_type": "markdown",
   "metadata": {},
   "source": [
    "\n",
    "---\n",
    "\n",
    "### **Szczegółowe wytyczne**\n",
    "\n",
    "1. **Funkcja `create_router`**:\n",
    "   - Tworzy pusty słownik do przechowywania mapowania URL.\n",
    "   - Zwraca funkcję `route_handler`.\n",
    "\n",
    "2. **Funkcja `route_handler`**:\n",
    "   - Przyjmuje dwa tryby działania:\n",
    "     - `add`: Dodaje nową funkcję obsługi dla podanego URL.\n",
    "     - `get`: Wywołuje funkcję obsługi przypisaną do podanego URL, jeśli istnieje.\n",
    "\n",
    "3. **Domknięcie**:\n",
    "   - Mapowanie URL przechowywane jest w funkcji zewnętrznej i dostępne dla funkcji `route_handler`.\n"
   ]
  },
  {
   "cell_type": "markdown",
   "metadata": {},
   "source": [
    "\n",
    "---\n",
    "\n",
    "### **Rozwiązanie**\n"
   ]
  },
  {
   "cell_type": "code",
   "execution_count": 1,
   "metadata": {},
   "outputs": [
    {
     "name": "stdout",
     "output_type": "stream",
     "text": [
      "Route /home added!\n",
      "Route /about added!\n",
      "Route /contact added!\n",
      "Welcome to the homepage!\n",
      "This is the about page.\n",
      "404: Not Found\n"
     ]
    }
   ],
   "source": [
    "\n",
    "def create_router():\n",
    "    # Miejsce na mapowanie URL → funkcja\n",
    "    routes = {}\n",
    "\n",
    "    # Funkcja do dodawania i obsługi URL\n",
    "    def route_handler(action, path, handler=None):\n",
    "        if action == \"add\":\n",
    "            routes[path] = handler  # Dodajemy nową trasę\n",
    "            return f\"Route {path} added!\"\n",
    "        elif action == \"get\":\n",
    "            # Obsługa żądania\n",
    "            if path in routes:\n",
    "                return routes[path]()\n",
    "            else:\n",
    "                return \"404: Not Found\"\n",
    "        else:\n",
    "            return \"Invalid action. Use 'add' or 'get'.\"\n",
    "\n",
    "    return route_handler\n",
    "\n",
    "# Tworzymy router\n",
    "router = create_router()\n",
    "\n",
    "# Dodajemy ścieżki\n",
    "print(router(\"add\", \"/home\", lambda: \"Welcome to the homepage!\"))\n",
    "print(router(\"add\", \"/about\", lambda: \"This is the about page.\"))\n",
    "print(router(\"add\", \"/contact\", lambda: \"Contact us here.\"))\n",
    "\n",
    "# Obsługujemy żądania\n",
    "print(router(\"get\", \"/home\"))      # Welcome to the homepage!\n",
    "print(router(\"get\", \"/about\"))     # This is the about page.\n",
    "print(router(\"get\", \"/nonexistent\"))  # 404: Not Found\n",
    "\n"
   ]
  },
  {
   "cell_type": "code",
   "execution_count": null,
   "metadata": {},
   "outputs": [],
   "source": []
  },
  {
   "cell_type": "markdown",
   "metadata": {},
   "source": [
    "\n",
    "---\n",
    "\n",
    "### **Rozszerzenie: Dynamiczne parametry w URL**\n",
    "\n",
    "Dodaj obsługę dynamicznych parametrów w URL. Na przykład:\n",
    "\n",
    "```python\n",
    "router(\"add\", \"/user/<username>\", lambda username: f\"Hello, {username}!\")\n",
    "print(router(\"get\", \"/user/Alice\"))  # Hello, Alice!\n",
    "```\n",
    "\n",
    "Aby to zaimplementować:\n",
    "1. Dostosuj funkcję `route_handler`, aby sprawdzała dynamiczne fragmenty w ścieżkach (np. `<username>`).\n",
    "2. Wykorzystaj wyrażenia regularne do dopasowywania ścieżek.\n"
   ]
  },
  {
   "cell_type": "code",
   "execution_count": 25,
   "metadata": {},
   "outputs": [
    {
     "data": {
      "text/html": [
       "<pre style=\"white-space:pre;overflow-x:auto;line-height:normal;font-family:Menlo,'DejaVu Sans Mono',consolas,'Courier New',monospace\">Hello, world!\n",
       "</pre>\n"
      ],
      "text/plain": [
       "Hello, world!\n"
      ]
     },
     "metadata": {},
     "output_type": "display_data"
    },
    {
     "data": {
      "text/html": [
       "<pre style=\"white-space:pre;overflow-x:auto;line-height:normal;font-family:Menlo,'DejaVu Sans Mono',consolas,'Courier New',monospace\">Goodbye, world!\n",
       "</pre>\n"
      ],
      "text/plain": [
       "Goodbye, world!\n"
      ]
     },
     "metadata": {},
     "output_type": "display_data"
    },
    {
     "data": {
      "text/html": [
       "<pre style=\"white-space:pre;overflow-x:auto;line-height:normal;font-family:Menlo,'DejaVu Sans Mono',consolas,'Courier New',monospace\">This is the about page.\n",
       "</pre>\n"
      ],
      "text/plain": [
       "This is the about page.\n"
      ]
     },
     "metadata": {},
     "output_type": "display_data"
    },
    {
     "data": {
      "text/html": [
       "<pre style=\"white-space:pre;overflow-x:auto;line-height:normal;font-family:Menlo,'DejaVu Sans Mono',consolas,'Courier New',monospace\"><span style=\"color: #008080; text-decoration-color: #008080; font-weight: bold\">404</span>: Not Found\n",
       "</pre>\n"
      ],
      "text/plain": [
       "\u001b[1;36m404\u001b[0m: Not Found\n"
      ]
     },
     "metadata": {},
     "output_type": "display_data"
    }
   ],
   "source": [
    "def create_router():\n",
    "    # Miejsce na mapowanie URL → funkcja\n",
    "    routes = {}\n",
    "\n",
    "    # Funkcja dekoratora\n",
    "    def router(path):\n",
    "        def decorator(func):\n",
    "            routes[path] = func\n",
    "            return func  # Zwracamy funkcję, aby można było ją normalnie wywoływać\n",
    "        return decorator\n",
    "\n",
    "    # Funkcja do obsługi żądań\n",
    "    def handle_request(path):\n",
    "        if path in routes:\n",
    "            return routes[path]()\n",
    "        else:\n",
    "            return \"404: Not Found\"\n",
    "\n",
    "    return router, handle_request\n",
    "\n",
    "# Tworzymy router\n",
    "router, handle_request = create_router()\n",
    "\n",
    "# Rejestracja ścieżek za pomocą dekoratora\n",
    "@router(\"/hello\")\n",
    "def hello():\n",
    "    return \"Hello, world!\"\n",
    "\n",
    "@router(\"/goodbye\")\n",
    "def goodbye():\n",
    "    return \"Goodbye, world!\"\n",
    "\n",
    "@router(\"/about\")\n",
    "def about():\n",
    "    return \"This is the about page.\"\n",
    "\n",
    "# Obsługa żądań\n",
    "print(handle_request(\"/hello\"))    # Hello, world!\n",
    "print(handle_request(\"/goodbye\"))  # Goodbye, world!\n",
    "print(handle_request(\"/about\"))    # This is the about page.\n",
    "print(handle_request(\"/nonexistent\"))  # 404: Not Found\n"
   ]
  },
  {
   "cell_type": "code",
   "execution_count": 7,
   "metadata": {},
   "outputs": [
    {
     "data": {
      "text/html": [
       "<pre style=\"white-space:pre;overflow-x:auto;line-height:normal;font-family:Menlo,'DejaVu Sans Mono',consolas,'Courier New',monospace\"><span style=\"color: #008080; text-decoration-color: #008080; font-weight: bold\">1</span>\n",
       "</pre>\n"
      ],
      "text/plain": [
       "\u001b[1;36m1\u001b[0m\n"
      ]
     },
     "metadata": {},
     "output_type": "display_data"
    },
    {
     "data": {
      "text/html": [
       "<pre style=\"white-space:pre;overflow-x:auto;line-height:normal;font-family:Menlo,'DejaVu Sans Mono',consolas,'Courier New',monospace\"><span style=\"color: #008080; text-decoration-color: #008080; font-weight: bold\">2</span>\n",
       "</pre>\n"
      ],
      "text/plain": [
       "\u001b[1;36m2\u001b[0m\n"
      ]
     },
     "metadata": {},
     "output_type": "display_data"
    },
    {
     "data": {
      "text/html": [
       "<pre style=\"white-space:pre;overflow-x:auto;line-height:normal;font-family:Menlo,'DejaVu Sans Mono',consolas,'Courier New',monospace\"><span style=\"color: #008080; text-decoration-color: #008080; font-weight: bold\">3</span>\n",
       "</pre>\n"
      ],
      "text/plain": [
       "\u001b[1;36m3\u001b[0m\n"
      ]
     },
     "metadata": {},
     "output_type": "display_data"
    }
   ],
   "source": [
    "def create_counter():\n",
    "    count = 0  # Zmienna wewnętrzna domknięcia\n",
    "\n",
    "    def counter():\n",
    "        nonlocal count\n",
    "        count += 1\n",
    "        return count\n",
    "\n",
    "    # Udostępniamy dostęp do zmiennej `count` poprzez atrybut funkcji\n",
    "    counter.count = count\n",
    "    return counter\n",
    "\n",
    "# Tworzymy instancję licznika\n",
    "my_counter = create_counter()\n",
    "\n",
    "# Używamy licznika\n",
    "print(my_counter())  # Output: 1\n",
    "print(my_counter())  # Output: 2\n",
    "\n",
    "# Nieświadomie modyfikujemy stan wewnętrzny\n",
    "my_counter.count = 100  # Modyfikujemy atrybut `count` funkcji\n",
    "\n",
    "# Sprawdzamy, jaki jest efekt na licznik\n",
    "print(my_counter())  # Output: 3\n"
   ]
  },
  {
   "cell_type": "markdown",
   "metadata": {},
   "source": [
    "### **Dekoratory w Pythonie**\n",
    "\n",
    "Dekoratory w Pythonie to specjalne funkcje lub klasy, które pozwalają modyfikować lub rozszerzać działanie innych funkcji, metod lub klas bez zmiany ich kodu. Dekoratory są często używane do stosowania wzorców projektowych, takich jak **logowanie**, **kontrola dostępu**, **buforowanie** czy **monitorowanie wydajności**.\n",
    "\n"
   ]
  },
  {
   "cell_type": "markdown",
   "metadata": {},
   "source": [
    "### **Jak działają dekoratory?**\n",
    "\n",
    "Dekorator jest funkcją, która przyjmuje jako argument inną funkcję, metodę lub klasę i zwraca nową funkcję, metodę lub klasę, modyfikując jej zachowanie.\n",
    "\n",
    "**Składnia dekoratora:**\n",
    "```python\n",
    "@decorator\n",
    "def function_to_decorate():\n",
    "    pass\n",
    "```\n",
    "\n",
    "Jest to równoważne z:\n",
    "```python\n",
    "def function_to_decorate():\n",
    "    pass\n",
    "\n",
    "function_to_decorate = decorator(function_to_decorate)\n",
    "```"
   ]
  },
  {
   "cell_type": "markdown",
   "metadata": {},
   "source": [
    "### **Przykład dekoratora funkcji**\n",
    "\n",
    "Dekorator logujący wywołanie funkcji:\n",
    "```python\n",
    "def log_calls(func):\n",
    "    def wrapper(*args, **kwargs):\n",
    "        print(f\"Calling function '{func.__name__}' with arguments {args} and {kwargs}\")\n",
    "        result = func(*args, **kwargs)\n",
    "        print(f\"Function '{func.__name__}' returned {result}\")\n",
    "        return result\n",
    "    return wrapper\n",
    "\n",
    "@log_calls\n",
    "def add(a, b):\n",
    "    return a + b\n",
    "\n",
    "# Użycie\n",
    "add(2, 3)\n",
    "# Wyjście:\n",
    "# Calling function 'add' with arguments (2, 3) and {}\n",
    "# Function 'add' returned 5\n",
    "```\n",
    "\n"
   ]
  },
  {
   "cell_type": "markdown",
   "metadata": {},
   "source": [
    "---\n",
    "\n",
    "### **Dekoratory funkcji z parametrami**\n",
    "\n",
    "Dekorator może również przyjmować parametry, jeśli jest opakowany w funkcję wyższego poziomu.\n",
    "\n",
    "Przykład:\n"
   ]
  },
  {
   "cell_type": "code",
   "execution_count": 3,
   "metadata": {},
   "outputs": [
    {
     "name": "stdout",
     "output_type": "stream",
     "text": [
      "Hello, Alice!\n",
      "Hello, Alice!\n",
      "Hello, Alice!\n"
     ]
    }
   ],
   "source": [
    "\n",
    "def repeat(times):\n",
    "    def decorator(func):\n",
    "        def wrapper(*args, **kwargs):\n",
    "            for _ in range(times):\n",
    "                func(*args, **kwargs)\n",
    "        return wrapper\n",
    "    return decorator\n",
    "\n",
    "@repeat(3)\n",
    "def greet(name):\n",
    "    print(f\"Hello, {name}!\")\n",
    "\n",
    "# Użycie\n",
    "greet(\"Alice\")\n",
    "\n"
   ]
  },
  {
   "cell_type": "markdown",
   "metadata": {},
   "source": [
    "\n",
    "### **Dekoratory klasy**\n",
    "\n",
    "Dekoratory mogą być również stosowane do klas. Działają w podobny sposób jak w przypadku funkcji, ale modyfikują lub rozszerzają funkcjonalność całej klasy.\n",
    "\n",
    "Przykład:\n",
    "```python\n",
    "def add_method(cls):\n",
    "    cls.new_method = lambda self: \"New method added!\"\n",
    "    return cls\n",
    "\n",
    "@add_method\n",
    "class MyClass:\n",
    "    pass\n",
    "\n",
    "# Użycie\n",
    "obj = MyClass()\n",
    "print(obj.new_method())  # Wyjście: \"New method added!\"\n",
    "```\n"
   ]
  },
  {
   "cell_type": "markdown",
   "metadata": {},
   "source": [
    "\n",
    "\n",
    "### **Wbudowane dekoratory w Pythonie**\n",
    "\n",
    "Python dostarcza kilka wbudowanych dekoratorów, takich jak:\n",
    "\n",
    "1. **@staticmethod**: Dekorator definiujący metodę statyczną, która nie ma dostępu do instancji ani klasy.\n",
    "2. **@classmethod**: Dekorator definiujący metodę klasową, która ma dostęp do samej klasy jako pierwszego argumentu (`cls`).\n",
    "3. **@property**: Dekorator pozwalający traktować metodę jako atrybut tylko do odczytu.\n",
    "\n",
    "Przykład:\n",
    "```python\n",
    "class Circle:\n",
    "    def __init__(self, radius):\n",
    "        self.radius = radius\n",
    "\n",
    "    @property\n",
    "    def area(self):\n",
    "        return 3.14 * self.radius ** 2\n",
    "\n",
    "circle = Circle(5)\n",
    "print(circle.area)  # Wyjście: 78.5\n",
    "```\n",
    "\n"
   ]
  },
  {
   "cell_type": "markdown",
   "metadata": {},
   "source": [
    "### **Zastosowania dekoratorów**\n",
    "\n",
    "1. **Logowanie**:"
   ]
  },
  {
   "cell_type": "code",
   "execution_count": null,
   "metadata": {},
   "outputs": [],
   "source": [
    "def log(func):\n",
    "    def wrapper(*args, **kwargs):\n",
    "        print(f\"Function {func.__name__} called\")\n",
    "        return func(*args, **kwargs)\n",
    "    return wrapper"
   ]
  },
  {
   "cell_type": "markdown",
   "metadata": {},
   "source": [
    "\n",
    "2. **Kontrola dostępu**:\n"
   ]
  },
  {
   "cell_type": "code",
   "execution_count": null,
   "metadata": {},
   "outputs": [],
   "source": [
    "def has_permission(permission):\n",
    "    ...\n",
    "\n",
    "\n",
    "def require_permission(permission):\n",
    "    def decorator(func):\n",
    "        def wrapper(*args, **kwargs):\n",
    "            if not has_permission(permission):\n",
    "                raise PermissionError(\"Access denied\")\n",
    "            return func(*args, **kwargs)\n",
    "        return wrapper\n",
    "    return decorator"
   ]
  },
  {
   "cell_type": "markdown",
   "metadata": {},
   "source": [
    "3. **Buforowanie wyników**:"
   ]
  },
  {
   "cell_type": "code",
   "execution_count": null,
   "metadata": {},
   "outputs": [],
   "source": [
    "\n",
    "from functools import lru_cache\n",
    "\n",
    "@lru_cache(maxsize=128)\n",
    "def fib(n):\n",
    "    if n < 2:\n",
    "        return n\n",
    "    return fib(n - 1) + fib(n - 2)\n",
    "\n"
   ]
  },
  {
   "cell_type": "markdown",
   "metadata": {},
   "source": [
    "\n",
    "4. **Monitorowanie czasu wykonania**:\n"
   ]
  },
  {
   "cell_type": "code",
   "execution_count": 4,
   "metadata": {},
   "outputs": [],
   "source": [
    "\n",
    "import time\n",
    "\n",
    "def timing(func):\n",
    "    def wrapper(*args, **kwargs):\n",
    "        start = time.time()\n",
    "        result = func(*args, **kwargs)\n",
    "        end = time.time()\n",
    "        print(f\"{func.__name__} executed in {end - start} seconds\")\n",
    "        return result\n",
    "    return wrapper"
   ]
  },
  {
   "cell_type": "markdown",
   "metadata": {},
   "source": [
    "\n",
    "### **Podsumowanie**\n",
    "\n",
    "Dekoratory to potężne narzędzie w Pythonie, pozwalające na modyfikowanie zachowania funkcji, metod i klas w sposób elegancki i czytelny. Stosowanie dekoratorów upraszcza kod, poprawia jego modularność i pozwala na wielokrotne wykorzystanie tych samych wzorców."
   ]
  },
  {
   "cell_type": "markdown",
   "metadata": {},
   "source": [
    "## Funkcje jako dekoratory klas\n",
    "\n",
    "\n",
    "Dekorator klasy to specjalny rodzaj dekoratora w Pythonie, który działa na poziomie klasy. W odróżnieniu od dekoratorów funkcji, które modyfikują lub rozszerzają działanie funkcji, dekoratory klas pozwalają modyfikować lub rozszerzać działanie klas.\n",
    "\n",
    "### Jak działa dekorator klasy?\n",
    "\n",
    "Dekorator klasy jest funkcją, która przyjmuje klasę jako argument i zwraca zmodyfikowaną lub nową klasę. Można go użyć do dodawania nowych metod, modyfikowania istniejących atrybutów, kontrolowania tworzenia obiektów lub nawet zastępowania klasy innym obiektem.\n",
    "\n",
    "### Przykład funkcji jako dekoratora klasy\n",
    "\n",
    "Poniżej znajduje się przykład, w którym funkcja działa jako dekorator klasy. Funkcja `add_repr` dodaje metodę `__repr__` do dekorowanej klasy, jeśli ta metoda nie jest zdefiniowana:\n",
    "\n",
    "```python\n",
    "def add_repr(cls):\n",
    "    if not hasattr(cls, '__repr__'):\n",
    "        def __repr__(self):\n",
    "            return f\"<{cls.__name__}({', '.join(f'{k}={v}' for k, v in self.__dict__.items())})>\"\n",
    "        cls.__repr__ = __repr__\n",
    "    return cls\n",
    "\n",
    "@add_repr\n",
    "class Point:\n",
    "    def __init__(self, x, y):\n",
    "        self.x = x\n",
    "        self.y = y\n",
    "\n",
    "# Użycie\n",
    "p = Point(2, 3)\n",
    "print(repr(p))  # Wyjście: <Point(x=2, y=3)>\n",
    "```\n",
    "\n",
    "### Wyjaśnienie\n",
    "\n",
    "1. **Funkcja dekoratora**:\n",
    "   - `add_repr` sprawdza, czy klasa posiada metodę `__repr__`. Jeśli nie, dodaje własną implementację tej metody.\n",
    "   - Modyfikowana klasa jest następnie zwracana.\n",
    "\n",
    "2. **Dekorowanie klasy**:\n",
    "   - Klasa `Point` jest przekazywana do dekoratora `add_repr`, który modyfikuje ją w locie, dodając brakującą metodę `__repr__`.\n",
    "\n",
    "3. **Efekt działania**:\n",
    "   - Po dekoracji klasa `Point` automatycznie ma metodę `__repr__`, która opisuje jej instancje w czytelny sposób.\n",
    "\n",
    "### Inne zastosowania dekoratorów klas\n",
    "\n",
    "Dekoratory klas mogą być używane do:\n",
    "- **Walidacji atrybutów**: Dodawanie walidatorów do atrybutów klasy.\n",
    "- **Dodawania metod**: Automatyczne wstrzykiwanie nowych metod.\n",
    "- **Rejestrowania klas**: Dodawanie klasy do rejestru, np. w systemie wtyczek.\n",
    "- **Dynamicznej modyfikacji**: Modyfikowanie klasy na podstawie zewnętrznych warunków.\n",
    "\n",
    "Przykład rejestrowania klasy:\n",
    "```python\n",
    "registry = {}\n",
    "\n",
    "def register_class(cls):\n",
    "    registry[cls.__name__] = cls\n",
    "    return cls\n",
    "\n",
    "@register_class\n",
    "class Circle:\n",
    "    pass\n",
    "\n",
    "@register_class\n",
    "class Square:\n",
    "    pass\n",
    "\n",
    "print(registry)  # {'Circle': <class '__main__.Circle'>, 'Square': <class '__main__.Square'>}\n",
    "```\n",
    "\n",
    "Dekoratory klas są przydatnym narzędziem do pisania bardziej modularnego i dynamicznego kodu, szczególnie w dużych systemach lub przy tworzeniu bibliotek.\n",
    "\n",
    "\n",
    "W poniższym przypadku, dekorator `singleton` tworzy tylko jedną instancję klasy `Configuration`."
   ]
  },
  {
   "cell_type": "code",
   "execution_count": null,
   "metadata": {},
   "outputs": [],
   "source": [
    "\n",
    "def singleton(cls):\n",
    "    instances = {}\n",
    "    def get_instance(*args, **kwargs):\n",
    "        if cls not in instances:\n",
    "            instances[cls] = cls(*args, **kwargs)\n",
    "        return instances[cls]\n",
    "    return get_instance\n",
    "\n",
    "@singleton\n",
    "class Configuration:\n",
    "    def __init__(self):\n",
    "        self.settings = {}\n"
   ]
  },
  {
   "cell_type": "markdown",
   "metadata": {},
   "source": [
    "## Funkcje jako protokoły\n",
    "\n",
    "### Protokół kontekstu (Context Protocol)\n",
    "\n"
   ]
  },
  {
   "cell_type": "code",
   "execution_count": null,
   "metadata": {},
   "outputs": [],
   "source": [
    "\n",
    "from contextlib import contextmanager\n",
    "\n",
    "@contextmanager\n",
    "def managed_resource():\n",
    "    print(\"Rozpoczęcie\")\n",
    "    try:\n",
    "        yield \"zasób\"\n",
    "    finally:\n",
    "        print(\"Zakończenie\")\n",
    "\n",
    "# Użycie\n",
    "with managed_resource() as resource:\n",
    "    print(f\"Używam: {resource}\")\n"
   ]
  },
  {
   "cell_type": "markdown",
   "metadata": {},
   "source": [
    "\n",
    "\n",
    "#### Protokół iteratora\n"
   ]
  },
  {
   "cell_type": "code",
   "execution_count": null,
   "metadata": {},
   "outputs": [],
   "source": [
    "\n",
    "\n",
    "def custom_range(start, end):\n",
    "    current = start\n",
    "    while current < end:\n",
    "        yield current\n",
    "        current += 1\n",
    "\n",
    "# Użycie\n",
    "for i in custom_range(0, 3):\n",
    "    print(i)\n"
   ]
  }
 ],
 "metadata": {
  "kernelspec": {
   "display_name": ".venv",
   "language": "python",
   "name": "python3"
  },
  "language_info": {
   "codemirror_mode": {
    "name": "ipython",
    "version": 3
   },
   "file_extension": ".py",
   "mimetype": "text/x-python",
   "name": "python",
   "nbconvert_exporter": "python",
   "pygments_lexer": "ipython3",
   "version": "3.9.13"
  }
 },
 "nbformat": 4,
 "nbformat_minor": 2
}
