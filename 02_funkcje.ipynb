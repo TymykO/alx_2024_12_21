{
 "cells": [
  {
   "cell_type": "markdown",
   "metadata": {},
   "source": [
    "# Funkcje \n",
    "\n",
    "## Funkcje wbudowane w Pythona\n",
    "\n",
    "### operacje na typach danych\n"
   ]
  },
  {
   "cell_type": "code",
   "execution_count": 3,
   "metadata": {},
   "outputs": [
    {
     "data": {
      "text/plain": [
       "(0, 10, 2)"
      ]
     },
     "execution_count": 3,
     "metadata": {},
     "output_type": "execute_result"
    }
   ],
   "source": [
    "int(), int(\"10\"), int(\"10\", base=2)"
   ]
  },
  {
   "cell_type": "code",
   "execution_count": 7,
   "metadata": {},
   "outputs": [
    {
     "data": {
      "text/plain": [
       "17116566"
      ]
     },
     "execution_count": 7,
     "metadata": {},
     "output_type": "execute_result"
    }
   ],
   "source": [
    "int(\"c0ffee\", base=17)\n",
    "\n"
   ]
  },
  {
   "cell_type": "code",
   "execution_count": 8,
   "metadata": {},
   "outputs": [
    {
     "data": {
      "text/plain": [
       "291"
      ]
     },
     "execution_count": 8,
     "metadata": {},
     "output_type": "execute_result"
    }
   ],
   "source": [
    "0b1100\n",
    "0o123\n",
    "0x123"
   ]
  },
  {
   "cell_type": "code",
   "execution_count": 9,
   "metadata": {},
   "outputs": [
    {
     "data": {
      "text/plain": [
       "('0b1111011', '0x7b', '0o173')"
      ]
     },
     "execution_count": 9,
     "metadata": {},
     "output_type": "execute_result"
    }
   ],
   "source": [
    "bin(123), hex(123), oct(123)"
   ]
  },
  {
   "cell_type": "code",
   "execution_count": 11,
   "metadata": {},
   "outputs": [
    {
     "data": {
      "text/plain": [
       "(0.0, '', False, 0j, set(), [], (), {}, frozenset(), b'', bytearray(b''))"
      ]
     },
     "execution_count": 11,
     "metadata": {},
     "output_type": "execute_result"
    }
   ],
   "source": [
    "float(), str(), bool(), complex(), set(), list(), tuple(), dict(), frozenset(), bytes(), bytearray()"
   ]
  },
  {
   "cell_type": "code",
   "execution_count": 12,
   "metadata": {},
   "outputs": [
    {
     "data": {
      "text/plain": [
       "('A', 65)"
      ]
     },
     "execution_count": 12,
     "metadata": {},
     "output_type": "execute_result"
    }
   ],
   "source": [
    "chr(65), ord(\"A\")"
   ]
  },
  {
   "cell_type": "code",
   "execution_count": 13,
   "metadata": {},
   "outputs": [
    {
     "name": "stdout",
     "output_type": "stream",
     "text": [
      "Help on built-in function chr in module builtins:\n",
      "\n",
      "chr(i, /)\n",
      "    Return a Unicode string of one character with ordinal i; 0 <= i <= 0x10ffff.\n",
      "\n"
     ]
    }
   ],
   "source": [
    "help(chr)"
   ]
  },
  {
   "cell_type": "code",
   "execution_count": 14,
   "metadata": {},
   "outputs": [
    {
     "data": {
      "text/plain": [
       "'ӑ'"
      ]
     },
     "execution_count": 14,
     "metadata": {},
     "output_type": "execute_result"
    }
   ],
   "source": [
    "chr(1233)"
   ]
  },
  {
   "cell_type": "code",
   "execution_count": 19,
   "metadata": {},
   "outputs": [
    {
     "data": {
      "text/plain": [
       "b'za\\xc5\\xbc\\xc3\\xb3\\xc5\\x82\\xc4\\x87 g\\xc4\\x99\\xc5\\x9bl\\xc4\\x85 ja\\xc5\\xba\\xc5\\x84'"
      ]
     },
     "execution_count": 19,
     "metadata": {},
     "output_type": "execute_result"
    }
   ],
   "source": [
    "napis = \"zażółć gęślą jaźń\".encode(\"utf-8\")\n",
    "napis\n"
   ]
  },
  {
   "cell_type": "code",
   "execution_count": 21,
   "metadata": {},
   "outputs": [
    {
     "data": {
      "text/plain": [
       "'zaĹĽĂłĹ‚Ä‡ gÄ™Ĺ›lÄ… jaĹşĹ„'"
      ]
     },
     "execution_count": 21,
     "metadata": {},
     "output_type": "execute_result"
    }
   ],
   "source": [
    "napis.decode(\"CP1250\")"
   ]
  },
  {
   "cell_type": "markdown",
   "metadata": {},
   "source": [
    "### typowanie\n",
    "\n"
   ]
  },
  {
   "cell_type": "code",
   "execution_count": 24,
   "metadata": {},
   "outputs": [
    {
     "data": {
      "text/plain": [
       "(bytes, str, int, float, complex, bool, NoneType)"
      ]
     },
     "execution_count": 24,
     "metadata": {},
     "output_type": "execute_result"
    }
   ],
   "source": [
    "type(napis), type(\"123\"), type(123), type(123.0), type(123j), type(True), type(None)"
   ]
  },
  {
   "cell_type": "code",
   "execution_count": 25,
   "metadata": {},
   "outputs": [
    {
     "data": {
      "text/plain": [
       "(False, True, True, True, True, True)"
      ]
     },
     "execution_count": 25,
     "metadata": {},
     "output_type": "execute_result"
    }
   ],
   "source": [
    "isinstance(napis, str), isinstance(123, int), isinstance(123.0, float), isinstance(123j, complex), isinstance(True, bool), isinstance(None, type(None))"
   ]
  },
  {
   "cell_type": "code",
   "execution_count": 26,
   "metadata": {},
   "outputs": [
    {
     "data": {
      "text/plain": [
       "(True, True)"
      ]
     },
     "execution_count": 26,
     "metadata": {},
     "output_type": "execute_result"
    }
   ],
   "source": [
    "isinstance(True, bool), isinstance(True, int)\n"
   ]
  },
  {
   "cell_type": "code",
   "execution_count": 28,
   "metadata": {},
   "outputs": [
    {
     "data": {
      "text/plain": [
       "2"
      ]
     },
     "execution_count": 28,
     "metadata": {},
     "output_type": "execute_result"
    }
   ],
   "source": [
    "True == 1\n",
    "1 + True"
   ]
  },
  {
   "cell_type": "markdown",
   "metadata": {},
   "source": [
    "### funkcje matematyczne\n",
    "\n"
   ]
  },
  {
   "cell_type": "code",
   "execution_count": 31,
   "metadata": {},
   "outputs": [
    {
     "data": {
      "text/plain": [
       "(123, 1024, 1024, 0.33, (3, 1))"
      ]
     },
     "execution_count": 31,
     "metadata": {},
     "output_type": "execute_result"
    }
   ],
   "source": [
    "abs(-123), pow(2, 10), 2 ** 10, round(1/3, 2), divmod(10, 3)"
   ]
  },
  {
   "cell_type": "code",
   "execution_count": 32,
   "metadata": {},
   "outputs": [
    {
     "data": {
      "text/plain": [
       "(1, 5, 15, 4950)"
      ]
     },
     "execution_count": 32,
     "metadata": {},
     "output_type": "execute_result"
    }
   ],
   "source": [
    "min(1, 2, 3, 4, 5), max(1, 2, 3, 4, 5), sum([1, 2, 3, 4, 5]), sum(range(100))"
   ]
  },
  {
   "cell_type": "code",
   "execution_count": 34,
   "metadata": {},
   "outputs": [
    {
     "data": {
      "text/plain": [
       "'1'"
      ]
     },
     "execution_count": 34,
     "metadata": {},
     "output_type": "execute_result"
    }
   ],
   "source": [
    "min([\"2\", \"1\"])"
   ]
  },
  {
   "cell_type": "code",
   "execution_count": 35,
   "metadata": {},
   "outputs": [
    {
     "data": {
      "text/plain": [
       "'ala'"
      ]
     },
     "execution_count": 35,
     "metadata": {},
     "output_type": "execute_result"
    }
   ],
   "source": [
    "min(\"ala\", \"kot\")"
   ]
  },
  {
   "cell_type": "markdown",
   "metadata": {},
   "source": [
    "### Funkcje iteracyjne, ... \n",
    "\n"
   ]
  },
  {
   "cell_type": "code",
   "execution_count": 36,
   "metadata": {},
   "outputs": [
    {
     "data": {
      "text/plain": [
       "(11, 5, 2)"
      ]
     },
     "execution_count": 36,
     "metadata": {},
     "output_type": "execute_result"
    }
   ],
   "source": [
    "len(\"ala ma kota\"), len([1, 2, 3, 4, 5]), len({\"ala\": 1, \"kot\": 2})"
   ]
  },
  {
   "cell_type": "code",
   "execution_count": 39,
   "metadata": {},
   "outputs": [
    {
     "data": {
      "text/plain": [
       "([5, 4, 3, 2, 1], ['a', 't', 'o', 'k', ' ', 'a', 'm', ' ', 'a', 'l', 'a'])"
      ]
     },
     "execution_count": 39,
     "metadata": {},
     "output_type": "execute_result"
    }
   ],
   "source": [
    "list(reversed([1, 2, 3, 4, 5])), list(reversed(\"ala ma kota\"))\n"
   ]
  },
  {
   "cell_type": "code",
   "execution_count": 40,
   "metadata": {},
   "outputs": [
    {
     "data": {
      "text/plain": [
       "([1, 2, 3, 4, 5], [' ', ' ', 'a', 'a', 'a', 'a', 'k', 'l', 'm', 'o', 't'])"
      ]
     },
     "execution_count": 40,
     "metadata": {},
     "output_type": "execute_result"
    }
   ],
   "source": [
    "sorted([1, 2, 3, 4, 5]), sorted(\"ala ma kota\")"
   ]
  },
  {
   "cell_type": "code",
   "execution_count": 41,
   "metadata": {},
   "outputs": [
    {
     "data": {
      "text/plain": [
       "([(0, 1), (1, 2), (2, 3), (3, 4), (4, 5)],\n",
       " [(10, 'a'),\n",
       "  (11, 'l'),\n",
       "  (12, 'a'),\n",
       "  (13, ' '),\n",
       "  (14, 'm'),\n",
       "  (15, 'a'),\n",
       "  (16, ' '),\n",
       "  (17, 'k'),\n",
       "  (18, 'o'),\n",
       "  (19, 't'),\n",
       "  (20, 'a')])"
      ]
     },
     "execution_count": 41,
     "metadata": {},
     "output_type": "execute_result"
    }
   ],
   "source": [
    "list(enumerate([1, 2, 3, 4, 5])), list(enumerate(\"ala ma kota\", 10))\n",
    "\n",
    "\n"
   ]
  },
  {
   "cell_type": "code",
   "execution_count": 44,
   "metadata": {},
   "outputs": [
    {
     "name": "stdout",
     "output_type": "stream",
     "text": [
      "18\n",
      "21\n",
      "24\n"
     ]
    }
   ],
   "source": [
    "a = [1, 2, 3,]\n",
    "b = [6, 7, 8, 9, 10]\n",
    "c = [11, 12, 13, 14, 15]\n",
    "\n",
    "for x, y, z in zip(a, b, c):\n",
    "    print(x + y + z)\n",
    "\n"
   ]
  },
  {
   "cell_type": "code",
   "execution_count": null,
   "metadata": {},
   "outputs": [],
   "source": [
    "map, filter, all, any"
   ]
  },
  {
   "cell_type": "code",
   "execution_count": 49,
   "metadata": {},
   "outputs": [
    {
     "data": {
      "text/plain": [
       "[2, 4]"
      ]
     },
     "execution_count": 49,
     "metadata": {},
     "output_type": "execute_result"
    }
   ],
   "source": [
    "x = [1, 2, 3, 4, 5]\n",
    "map(str, x)\n",
    "\n",
    "list(filter(lambda x: x % 2 == 0, x))\n",
    "\n",
    "\n",
    "\n"
   ]
  },
  {
   "cell_type": "code",
   "execution_count": 55,
   "metadata": {},
   "outputs": [
    {
     "data": {
      "text/plain": [
       "False"
      ]
     },
     "execution_count": 55,
     "metadata": {},
     "output_type": "execute_result"
    }
   ],
   "source": [
    "# lambda - to jest funkcja anonimowa\n",
    "\n",
    "# def parzyste(x): return x % 2 == 0\n",
    "\n",
    "parzyste = lambda x: x % 2 == 0\n",
    "\n",
    "# list(filter(parzyste, x))\n",
    "\n",
    "parzyste(9)\n",
    "\n",
    "\n"
   ]
  },
  {
   "cell_type": "code",
   "execution_count": 57,
   "metadata": {},
   "outputs": [
    {
     "data": {
      "text/plain": [
       "3"
      ]
     },
     "execution_count": 57,
     "metadata": {},
     "output_type": "execute_result"
    }
   ],
   "source": [
    "suma = lambda x, y: x + y\n",
    "\n",
    "suma(1, 2)\n",
    "\n"
   ]
  },
  {
   "cell_type": "code",
   "execution_count": 59,
   "metadata": {},
   "outputs": [
    {
     "data": {
      "text/plain": [
       "3"
      ]
     },
     "execution_count": 59,
     "metadata": {},
     "output_type": "execute_result"
    }
   ],
   "source": [
    "(lambda: 3)()"
   ]
  },
  {
   "cell_type": "code",
   "execution_count": 60,
   "metadata": {},
   "outputs": [
    {
     "data": {
      "text/plain": [
       "(<function print>,\n",
       " <bound method Kernel.raw_input of <ipykernel.ipkernel.IPythonKernel object at 0x108378f70>>,\n",
       " <function io.open(file, mode='r', buffering=-1, encoding=None, errors=None, newline=None, closefd=True, opener=None)>)"
      ]
     },
     "execution_count": 60,
     "metadata": {},
     "output_type": "execute_result"
    }
   ],
   "source": [
    "### operacje wejścia/wyjścia\n",
    "\n",
    "print, input, open"
   ]
  },
  {
   "cell_type": "markdown",
   "metadata": {},
   "source": [
    "### funkcje pomocnicze"
   ]
  },
  {
   "cell_type": "code",
   "execution_count": null,
   "metadata": {},
   "outputs": [],
   "source": [
    "help, dir, vars, callable, getattr, hasattr, setattr, delattr"
   ]
  },
  {
   "cell_type": "code",
   "execution_count": 63,
   "metadata": {},
   "outputs": [
    {
     "data": {
      "text/plain": [
       "['__add__',\n",
       " '__class__',\n",
       " '__class_getitem__',\n",
       " '__contains__',\n",
       " '__delattr__',\n",
       " '__delitem__',\n",
       " '__dir__',\n",
       " '__doc__',\n",
       " '__eq__',\n",
       " '__format__',\n",
       " '__ge__',\n",
       " '__getattribute__',\n",
       " '__getitem__',\n",
       " '__gt__',\n",
       " '__hash__',\n",
       " '__iadd__',\n",
       " '__imul__',\n",
       " '__init__',\n",
       " '__init_subclass__',\n",
       " '__iter__',\n",
       " '__le__',\n",
       " '__len__',\n",
       " '__lt__',\n",
       " '__mul__',\n",
       " '__ne__',\n",
       " '__new__',\n",
       " '__reduce__',\n",
       " '__reduce_ex__',\n",
       " '__repr__',\n",
       " '__reversed__',\n",
       " '__rmul__',\n",
       " '__setattr__',\n",
       " '__setitem__',\n",
       " '__sizeof__',\n",
       " '__str__',\n",
       " '__subclasshook__',\n",
       " 'append',\n",
       " 'clear',\n",
       " 'copy',\n",
       " 'count',\n",
       " 'extend',\n",
       " 'index',\n",
       " 'insert',\n",
       " 'pop',\n",
       " 'remove',\n",
       " 'reverse',\n",
       " 'sort']"
      ]
     },
     "execution_count": 63,
     "metadata": {},
     "output_type": "execute_result"
    }
   ],
   "source": [
    "dir([])"
   ]
  },
  {
   "cell_type": "code",
   "execution_count": 64,
   "metadata": {},
   "outputs": [
    {
     "name": "stdout",
     "output_type": "stream",
     "text": [
      "Help on built-in function extend:\n",
      "\n",
      "extend(iterable, /) method of builtins.list instance\n",
      "    Extend list by appending elements from the iterable.\n",
      "\n"
     ]
    }
   ],
   "source": [
    "help([].extend)"
   ]
  },
  {
   "cell_type": "code",
   "execution_count": 65,
   "metadata": {},
   "outputs": [
    {
     "data": {
      "text/plain": [
       "['__class__',\n",
       " '__delattr__',\n",
       " '__dict__',\n",
       " '__dir__',\n",
       " '__doc__',\n",
       " '__eq__',\n",
       " '__format__',\n",
       " '__ge__',\n",
       " '__getattribute__',\n",
       " '__gt__',\n",
       " '__hash__',\n",
       " '__init__',\n",
       " '__init_subclass__',\n",
       " '__le__',\n",
       " '__lt__',\n",
       " '__module__',\n",
       " '__ne__',\n",
       " '__new__',\n",
       " '__reduce__',\n",
       " '__reduce_ex__',\n",
       " '__repr__',\n",
       " '__setattr__',\n",
       " '__sizeof__',\n",
       " '__str__',\n",
       " '__subclasshook__',\n",
       " '__weakref__',\n",
       " 'metoda']"
      ]
     },
     "execution_count": 65,
     "metadata": {},
     "output_type": "execute_result"
    }
   ],
   "source": [
    "class A:\n",
    "    def metoda(self):\n",
    "        print(\"metoda\")\n",
    "\n",
    "\n",
    "a = A()\n",
    "\n",
    "dir(a)"
   ]
  },
  {
   "cell_type": "code",
   "execution_count": 66,
   "metadata": {},
   "outputs": [
    {
     "data": {
      "text/plain": [
       "['ArithmeticError',\n",
       " 'AssertionError',\n",
       " 'AttributeError',\n",
       " 'BaseException',\n",
       " 'BlockingIOError',\n",
       " 'BrokenPipeError',\n",
       " 'BufferError',\n",
       " 'BytesWarning',\n",
       " 'ChildProcessError',\n",
       " 'ConnectionAbortedError',\n",
       " 'ConnectionError',\n",
       " 'ConnectionRefusedError',\n",
       " 'ConnectionResetError',\n",
       " 'DeprecationWarning',\n",
       " 'EOFError',\n",
       " 'Ellipsis',\n",
       " 'EnvironmentError',\n",
       " 'Exception',\n",
       " 'False',\n",
       " 'FileExistsError',\n",
       " 'FileNotFoundError',\n",
       " 'FloatingPointError',\n",
       " 'FutureWarning',\n",
       " 'GeneratorExit',\n",
       " 'IOError',\n",
       " 'ImportError',\n",
       " 'ImportWarning',\n",
       " 'IndentationError',\n",
       " 'IndexError',\n",
       " 'InterruptedError',\n",
       " 'IsADirectoryError',\n",
       " 'KeyError',\n",
       " 'KeyboardInterrupt',\n",
       " 'LookupError',\n",
       " 'MemoryError',\n",
       " 'ModuleNotFoundError',\n",
       " 'NameError',\n",
       " 'None',\n",
       " 'NotADirectoryError',\n",
       " 'NotImplemented',\n",
       " 'NotImplementedError',\n",
       " 'OSError',\n",
       " 'OverflowError',\n",
       " 'PendingDeprecationWarning',\n",
       " 'PermissionError',\n",
       " 'ProcessLookupError',\n",
       " 'RecursionError',\n",
       " 'ReferenceError',\n",
       " 'ResourceWarning',\n",
       " 'RuntimeError',\n",
       " 'RuntimeWarning',\n",
       " 'StopAsyncIteration',\n",
       " 'StopIteration',\n",
       " 'SyntaxError',\n",
       " 'SyntaxWarning',\n",
       " 'SystemError',\n",
       " 'SystemExit',\n",
       " 'TabError',\n",
       " 'TimeoutError',\n",
       " 'True',\n",
       " 'TypeError',\n",
       " 'UnboundLocalError',\n",
       " 'UnicodeDecodeError',\n",
       " 'UnicodeEncodeError',\n",
       " 'UnicodeError',\n",
       " 'UnicodeTranslateError',\n",
       " 'UnicodeWarning',\n",
       " 'UserWarning',\n",
       " 'ValueError',\n",
       " 'Warning',\n",
       " 'ZeroDivisionError',\n",
       " '__IPYTHON__',\n",
       " '__build_class__',\n",
       " '__debug__',\n",
       " '__doc__',\n",
       " '__import__',\n",
       " '__loader__',\n",
       " '__name__',\n",
       " '__package__',\n",
       " '__spec__',\n",
       " 'abs',\n",
       " 'all',\n",
       " 'any',\n",
       " 'ascii',\n",
       " 'bin',\n",
       " 'bool',\n",
       " 'breakpoint',\n",
       " 'bytearray',\n",
       " 'bytes',\n",
       " 'callable',\n",
       " 'chr',\n",
       " 'classmethod',\n",
       " 'compile',\n",
       " 'complex',\n",
       " 'copyright',\n",
       " 'credits',\n",
       " 'delattr',\n",
       " 'dict',\n",
       " 'dir',\n",
       " 'display',\n",
       " 'divmod',\n",
       " 'enumerate',\n",
       " 'eval',\n",
       " 'exec',\n",
       " 'execfile',\n",
       " 'filter',\n",
       " 'float',\n",
       " 'format',\n",
       " 'frozenset',\n",
       " 'get_ipython',\n",
       " 'getattr',\n",
       " 'globals',\n",
       " 'hasattr',\n",
       " 'hash',\n",
       " 'help',\n",
       " 'hex',\n",
       " 'id',\n",
       " 'input',\n",
       " 'int',\n",
       " 'isinstance',\n",
       " 'issubclass',\n",
       " 'iter',\n",
       " 'len',\n",
       " 'license',\n",
       " 'list',\n",
       " 'locals',\n",
       " 'map',\n",
       " 'max',\n",
       " 'memoryview',\n",
       " 'min',\n",
       " 'next',\n",
       " 'object',\n",
       " 'oct',\n",
       " 'open',\n",
       " 'ord',\n",
       " 'pow',\n",
       " 'print',\n",
       " 'property',\n",
       " 'range',\n",
       " 'repr',\n",
       " 'reversed',\n",
       " 'round',\n",
       " 'runfile',\n",
       " 'set',\n",
       " 'setattr',\n",
       " 'slice',\n",
       " 'sorted',\n",
       " 'staticmethod',\n",
       " 'str',\n",
       " 'sum',\n",
       " 'super',\n",
       " 'tuple',\n",
       " 'type',\n",
       " 'vars',\n",
       " 'zip']"
      ]
     },
     "execution_count": 66,
     "metadata": {},
     "output_type": "execute_result"
    }
   ],
   "source": [
    "dir(__builtins__)"
   ]
  },
  {
   "cell_type": "code",
   "execution_count": 67,
   "metadata": {},
   "outputs": [
    {
     "data": {
      "text/plain": [
       "['BPF',\n",
       " 'LOG4',\n",
       " 'NV_MAGICCONST',\n",
       " 'RECIP_BPF',\n",
       " 'Random',\n",
       " 'SG_MAGICCONST',\n",
       " 'SystemRandom',\n",
       " 'TWOPI',\n",
       " '_Sequence',\n",
       " '_Set',\n",
       " '__all__',\n",
       " '__builtins__',\n",
       " '__cached__',\n",
       " '__doc__',\n",
       " '__file__',\n",
       " '__loader__',\n",
       " '__name__',\n",
       " '__package__',\n",
       " '__spec__',\n",
       " '_accumulate',\n",
       " '_acos',\n",
       " '_bisect',\n",
       " '_ceil',\n",
       " '_cos',\n",
       " '_e',\n",
       " '_exp',\n",
       " '_floor',\n",
       " '_inst',\n",
       " '_log',\n",
       " '_os',\n",
       " '_pi',\n",
       " '_random',\n",
       " '_repeat',\n",
       " '_sha512',\n",
       " '_sin',\n",
       " '_sqrt',\n",
       " '_test',\n",
       " '_test_generator',\n",
       " '_urandom',\n",
       " '_warn',\n",
       " 'betavariate',\n",
       " 'choice',\n",
       " 'choices',\n",
       " 'expovariate',\n",
       " 'gammavariate',\n",
       " 'gauss',\n",
       " 'getrandbits',\n",
       " 'getstate',\n",
       " 'lognormvariate',\n",
       " 'normalvariate',\n",
       " 'paretovariate',\n",
       " 'randbytes',\n",
       " 'randint',\n",
       " 'random',\n",
       " 'randrange',\n",
       " 'sample',\n",
       " 'seed',\n",
       " 'setstate',\n",
       " 'shuffle',\n",
       " 'triangular',\n",
       " 'uniform',\n",
       " 'vonmisesvariate',\n",
       " 'weibullvariate']"
      ]
     },
     "execution_count": 67,
     "metadata": {},
     "output_type": "execute_result"
    }
   ],
   "source": [
    "import random\n",
    "\n",
    "dir(random)"
   ]
  },
  {
   "cell_type": "markdown",
   "metadata": {},
   "source": [
    "## first class citizen\n"
   ]
  },
  {
   "cell_type": "code",
   "execution_count": 68,
   "metadata": {},
   "outputs": [
    {
     "data": {
      "text/plain": [
       "'Hello, Alice!'"
      ]
     },
     "execution_count": 68,
     "metadata": {},
     "output_type": "execute_result"
    }
   ],
   "source": [
    "def greet(name):\n",
    "    return f\"Hello, {name}!\"\n",
    "\n",
    "x = greet  # tworzę nową referencję do funkcji\n",
    "\n",
    "x(\"Alice\")\n",
    "\n",
    "\n",
    "\n"
   ]
  },
  {
   "cell_type": "code",
   "execution_count": 71,
   "metadata": {},
   "outputs": [
    {
     "name": "stdout",
     "output_type": "stream",
     "text": [
      "12\n",
      "8\n",
      "20\n",
      "5.0\n",
      "100\n"
     ]
    }
   ],
   "source": [
    "def add(a, b):\n",
    "    return a + b\n",
    "\n",
    "def sub(a, b):\n",
    "    return a - b\n",
    "\n",
    "def mul(a, b):\n",
    "    return a * b\n",
    "\n",
    "def div(a, b):\n",
    "    return a / b\n",
    "\n",
    "\n",
    "func_chain = [add, sub, mul, div, lambda x, y: x ** y]\n",
    "\n",
    "for func in func_chain:\n",
    "    print(func(10, 2))\n",
    "\n",
    "\n",
    "\n",
    "\n",
    "\n"
   ]
  },
  {
   "cell_type": "markdown",
   "metadata": {},
   "source": [
    "ćwiczenie 1\n",
    "\n",
    "Utwórz nowy moduł (plik py) w którym utworzysz:\n",
    "\n",
    "* listę zawierającą 100 losowych liczb całkowitych z zakresu 1-100 (random.randint(1, 100))\n",
    "* słownik zawierający funkcje min, max, sum \n",
    "\n",
    "uzyj pętli na tym słowniku dla listy liczb\n",
    "\n",
    "przyklad:\n",
    "\n",
    "lista = [1, 2, 3, 4, 5]\n",
    "\n",
    "for nazwa, func in funkcje.items():\n",
    "    ...\n",
    "\n",
    "oczekiwany wynik:\n",
    "\n",
    "    min: 1\n",
    "    max: 5\n",
    "    sum: 15\n",
    "\n",
    "\n"
   ]
  },
  {
   "cell_type": "code",
   "execution_count": null,
   "metadata": {},
   "outputs": [],
   "source": [
    "funkcje = {\"wartość minimalna\": min, \"max\": max, \"sum\": sum}"
   ]
  },
  {
   "cell_type": "markdown",
   "metadata": {},
   "source": [
    "### funkcje jako argumenty innych funkcji"
   ]
  },
  {
   "cell_type": "code",
   "execution_count": 74,
   "metadata": {},
   "outputs": [
    {
     "name": "stdout",
     "output_type": "stream",
     "text": [
      "Wywołuję funkcję min z argumentami ([1, 2, 3, 4, 5],) {}\n",
      "Wywołuję funkcję max z argumentami ([1, 2, 3, 4, 5],) {}\n",
      "Wywołuję funkcję sum z argumentami ([1, 2, 3, 4, 5],) {}\n"
     ]
    },
    {
     "data": {
      "text/plain": [
       "15"
      ]
     },
     "execution_count": 74,
     "metadata": {},
     "output_type": "execute_result"
    }
   ],
   "source": [
    "def apply_func(func, *args, **kwargs):\n",
    "    print(\"Wywołuję funkcję\", func.__name__, \"z argumentami\", args, kwargs)\n",
    "    return func(*args, **kwargs)\n",
    "\n",
    "apply_func(min, [1, 2, 3, 4, 5])\n",
    "apply_func(max, [1, 2, 3, 4, 5])\n",
    "apply_func(sum, [1, 2, 3, 4, 5])\n",
    "\n",
    "\n",
    "\n",
    "\n"
   ]
  },
  {
   "cell_type": "code",
   "execution_count": 80,
   "metadata": {},
   "outputs": [
    {
     "name": "stdout",
     "output_type": "stream",
     "text": [
      "Writing cwiczenia/cwiczenie_02.py\n"
     ]
    }
   ],
   "source": [
    "%%writefile cwiczenia/cwiczenie_02.py \n",
    "# napisz funkcję, która wywoła inną funkcję dwa razy. \n",
    "\n",
    "def square(x):\n",
    "    return x ** 2\n",
    "\n",
    "def cube(x):\n",
    "    return x ** 3\n",
    "\n",
    "def apply_twice(func, x):\n",
    "    \"\"\"\"\"\"\n",
    "\n",
    "\n",
    "assert apply_twice(square, 2) == 16, \"wynik niezgodny z oczekiwanym\"\n",
    "assert apply_twice(cube, 2) == (2 ** 3) ** 3, \"wynik niezgodny z oczekiwanym\""
   ]
  },
  {
   "cell_type": "markdown",
   "metadata": {},
   "source": [
    "### funkcja zwraca funkcję"
   ]
  },
  {
   "cell_type": "code",
   "execution_count": null,
   "metadata": {},
   "outputs": [],
   "source": [
    "# zamiast tego\n",
    "def incr_by_2(x):\n",
    "    return x + 2\n",
    "\n",
    "\n",
    "def incr_by_3(x):\n",
    "    return x + 3\n",
    "\n",
    "\n",
    "\n",
    "def incr_factory(step=1):\n",
    "    \n",
    "    def funkcja(x):\n",
    "        return x + step\n",
    "\n",
    "    return funkcja\n",
    "\n",
    "# wytwarzamy funkcje\n",
    "incr_by_2 = incr_factory(step=2)\n",
    "incr_by_3 = incr_factory(3)\n",
    "\n",
    "# uzywamy te funkcje\n",
    "incr_by_2(x=10)\n",
    "incr_by_3(10)\n",
    "\n"
   ]
  },
  {
   "cell_type": "code",
   "execution_count": 81,
   "metadata": {},
   "outputs": [
    {
     "name": "stdout",
     "output_type": "stream",
     "text": [
      "Writing cwiczenia/cwiczenie_04.py\n"
     ]
    }
   ],
   "source": [
    "%%writefile cwiczenia/cwiczenie_04.py\n",
    "\n",
    "# stwórz funkcje greateing_factory, która tworzy funkcje zwracające napis zawierający powitanie w danym jezyku\n",
    "\n",
    "\n",
    "\n",
    "greeting_factory(\"en\")(\"Alice\") == \"Hello, Alice!\"\n",
    "greeting_factory(\"pl\")(\"Alice\") == \"Cześć, Alice!\"\n",
    "greeting_factory(\"de\")(\"Alice\") == \"Hallo, Alice!\"\n",
    "greeting_factory(\"fr\")(\"Alice\") == \"Bonjour, Alice!\"\n",
    "\n",
    "\n"
   ]
  },
  {
   "cell_type": "markdown",
   "metadata": {},
   "source": [
    "### Zadanie 01 -  **Dynamiczny System Przetwarzania Zamówień**\n",
    "\n",
    "Stwórz aplikację, która realizuje system przetwarzania zamówień. System wykorzystuje funkcje jako obywateli pierwszej kategorii, aby dynamicznie dobierać logikę przetwarzania dla różnych typów zamówień i produktów.\n"
   ]
  },
  {
   "cell_type": "markdown",
   "metadata": {},
   "source": [
    "\n",
    "#### **Opis problemu**\n",
    "\n",
    "Masz listę zamówień, gdzie każde zamówienie to słownik zawierający informacje o:\n",
    "- Produkcie (`product`),\n",
    "- Typie zamówienia (`type`),\n",
    "- Kwocie (`amount`).\n",
    "\n",
    "pojedyncze zamówienie to słownik: \n",
    "\n",
    "```python\n",
    "{\"product\": \"Laptop\", \"type\": \"online\", \"category\": \"electronics\", \"amount\": 1200}\n",
    "```\n"
   ]
  },
  {
   "cell_type": "markdown",
   "metadata": {},
   "source": [
    "\n",
    "Chcesz napisać system, który:\n",
    "1. Dynamicznie wybiera odpowiednią logikę przetwarzania w zależności od **typu zamówienia** (np. `online`, `store`, `vip`). \n",
    "   Dla zamówienia typu `online` należy dodać opłatę za przesyłkę (10 PLN), dla `store` dodać 5% rabatu, a dla `vip` dodać 10% rabatu, ale o ile wartość zamówienia to 100 PLN lub więcej.\n",
    "\n",
    "2. Dla każdego produktu, w zależności od **kategorii produktu** (np. `electronics`, `books`, `furniture`), stosuje odpowiednie reguły podatkowe (np. 15%, 5%, 10%).\n",
    "   Podatek należy obliczyć od wartości zamówienia po przetworzeniu (rabat i opłata za przesyłkę).\n",
    "\n",
    "3. Zwraca podsumowanie przetworzonych zamówień, w tym:\n",
    "   - Całkowitą wartość zamówień (po podatkach),\n",
    "   - Liczbę zamówień przetworzonych dla każdego typu.\n",
    "\n",
    "\n",
    "#### **Przykład danych wejściowych**\n",
    "```python\n",
    "orders = [\n",
    "    {\"product\": \"Laptop\", \"type\": \"online\", \"category\": \"electronics\", \"amount\": 1200},\n",
    "    {\"product\": \"Chair\", \"type\": \"store\", \"category\": \"furniture\", \"amount\": 300},\n",
    "    {\"product\": \"Book\", \"type\": \"vip\", \"category\": \"books\", \"amount\": 50},\n",
    "    {\"product\": \"Phone\", \"type\": \"online\", \"category\": \"electronics\", \"amount\": 800},\n",
    "    {\"product\": \"Table\", \"type\": \"store\", \"category\": \"furniture\", \"amount\": 500},\n",
    "]\n",
    "```\n"
   ]
  },
  {
   "cell_type": "markdown",
   "metadata": {},
   "source": [
    "\n",
    "#### przykładowe wyniki\n",
    "\n",
    "\n",
    "\n",
    "#### **Wymagania**\n",
    "\n",
    "1. **Funkcje jako obiekty**: \n",
    "   - Zaimplementuj funkcje przetwarzające zamówienia dla różnych typów (`online`, `store`, `vip`) i przechowuj je w słowniku.\n",
    "\n",
    "2. **Funkcje jako argumenty**: \n",
    "   - Stwórz funkcję `process_order`, która przyjmuje zamówienie i logikę przetwarzania jako argument.\n",
    "   - stwórz funkcję `process_orders`, która przyjmie listę zamówień i zwróci podsumowanie. \n",
    "     Wynik działania podsumowania powinien wyglądać następująco\n",
    "      ```shell\n",
    "      Podsumowanie zamówień:\n",
    "      {'total_value': 2880.0, 'total_tax': 384.0, 'order_count_by_type': {'online': 2, 'store': 2, 'vip': 1}}\n",
    "      ```   \n",
    "\n",
    "3. **Funkcje jako zwracane wartości**: \n",
    "   - Stwórz fabrykę funkcji podatkowych. Dla każdej kategorii produktów powinna być zwrócona funkcja obliczająca podatek (np. `electronics: 15%`, `books: 5%`, `furniture: 10%`).\n",
    "\n",
    "4. **Funkcje w strukturach danych**:\n",
    "   - Wykorzystaj słownik do przechowywania reguł podatkowych.\n",
    "\n",
    "\n",
    "5. **Wyświetl podsumowanie szczegółowe**: \n",
    "   - Wyświetl podsumowanie szczegółówe w formie tabeli.\n",
    "\n",
    "   **Przykładowy wynik**\n",
    "   ```\n",
    "   +-----------+--------+-------------+----------+--------------+----------------+\n",
    "   | Product   | Type   | Category    |   Amount |   Tax Amount |   Tax Rate (%) |\n",
    "   +===========+========+=============+==========+==============+================+\n",
    "   | Laptop    | online | electronics |     1210 |        181.5 |             15 |\n",
    "   +-----------+--------+-------------+----------+--------------+----------------+\n",
    "   | Chair     | store  | furniture   |      285 |         28.5 |             10 |\n",
    "   +-----------+--------+-------------+----------+--------------+----------------+\n",
    "   | Book      | vip    | books       |       50 |          2.5 |              5 |\n",
    "   +-----------+--------+-------------+----------+--------------+----------------+\n",
    "   | Phone     | online | electronics |      810 |        121.5 |             15 |\n",
    "   +-----------+--------+-------------+----------+--------------+----------------+\n",
    "   | Table     | store  | furniture   |      475 |         47.5 |             10 |\n",
    "   +-----------+--------+-------------+----------+--------------+----------------+\n",
    "   ```\n",
    "\n",
    "\n",
    "---\n",
    "\n",
    "\n",
    "#### **Plan rozwiązania**\n",
    "\n",
    "1. **Stwórz funkcje przetwarzania zamówień**:\n",
    "   - `process_online_order`: Dodaje opłatę za przesyłkę (10 PLN).\n",
    "   - `process_store_order`: Daje 5% rabatu.\n",
    "   - `process_vip_order`: Daje 10% rabatu, ale minimum wartość zamówienia to 100 PLN.\n",
    "\n",
    "2. **Stwórz fabrykę funkcji dla podatków**:\n",
    "   - Funkcje generują różne reguły podatkowe w zależności od kategorii.\n",
    "\n",
    "3. **Połącz wszystko w `process_orders`**:\n",
    "   - Dla każdego zamówienia wybierz odpowiednie funkcje przetwarzania i podatkowe.\n",
    "   - Oblicz wartość zamówienia po przetworzeniu i podatków\n"
   ]
  },
  {
   "cell_type": "code",
   "execution_count": 82,
   "metadata": {},
   "outputs": [
    {
     "name": "stdout",
     "output_type": "stream",
     "text": [
      "Collecting rich\n",
      "  Downloading rich-13.9.4-py3-none-any.whl (242 kB)\n",
      "\u001b[2K     \u001b[38;2;114;156;31m━━━━━━━━━━━━━━━━━━━━━━━━━━━━━━━━━━━━━━━\u001b[0m \u001b[32m242.4/242.4 KB\u001b[0m \u001b[31m1.6 MB/s\u001b[0m eta \u001b[36m0:00:00\u001b[0m[31m2.0 MB/s\u001b[0m eta \u001b[36m0:00:01\u001b[0m\n",
      "\u001b[?25hCollecting tabulate\n",
      "  Downloading tabulate-0.9.0-py3-none-any.whl (35 kB)\n",
      "Requirement already satisfied: pygments<3.0.0,>=2.13.0 in ./venv/lib/python3.9/site-packages (from rich) (2.18.0)\n",
      "Requirement already satisfied: typing-extensions<5.0,>=4.0.0 in ./venv/lib/python3.9/site-packages (from rich) (4.12.2)\n",
      "Collecting markdown-it-py>=2.2.0\n",
      "  Downloading markdown_it_py-3.0.0-py3-none-any.whl (87 kB)\n",
      "\u001b[2K     \u001b[38;2;114;156;31m━━━━━━━━━━━━━━━━━━━━━━━━━━━━━━━━━━━━━━━━\u001b[0m \u001b[32m87.5/87.5 KB\u001b[0m \u001b[31m2.6 MB/s\u001b[0m eta \u001b[36m0:00:00\u001b[0m\n",
      "\u001b[?25hCollecting mdurl~=0.1\n",
      "  Downloading mdurl-0.1.2-py3-none-any.whl (10.0 kB)\n",
      "Installing collected packages: tabulate, mdurl, markdown-it-py, rich\n",
      "Successfully installed markdown-it-py-3.0.0 mdurl-0.1.2 rich-13.9.4 tabulate-0.9.0\n",
      "\u001b[33mWARNING: You are using pip version 22.0.4; however, version 24.3.1 is available.\n",
      "You should consider upgrading via the '/Users/rkorzen/PycharmProjects/szkolenia/alx/alx_2024_12_21/venv/bin/python3 -m pip install --upgrade pip' command.\u001b[0m\u001b[33m\n",
      "\u001b[0m"
     ]
    }
   ],
   "source": [
    "# !pip install rich tabulate"
   ]
  },
  {
   "cell_type": "code",
   "execution_count": 83,
   "metadata": {},
   "outputs": [],
   "source": [
    "old_print = print\n",
    "\n",
    "from rich import print"
   ]
  },
  {
   "cell_type": "code",
   "execution_count": 84,
   "metadata": {},
   "outputs": [
    {
     "name": "stdout",
     "output_type": "stream",
     "text": [
      "{'a': 1, 'b': 2}\n"
     ]
    },
    {
     "data": {
      "text/html": [
       "<pre style=\"white-space:pre;overflow-x:auto;line-height:normal;font-family:Menlo,'DejaVu Sans Mono',consolas,'Courier New',monospace\"><span style=\"font-weight: bold\">{</span><span style=\"color: #008000; text-decoration-color: #008000\">'a'</span>: <span style=\"color: #008080; text-decoration-color: #008080; font-weight: bold\">1</span>, <span style=\"color: #008000; text-decoration-color: #008000\">'b'</span>: <span style=\"color: #008080; text-decoration-color: #008080; font-weight: bold\">2</span><span style=\"font-weight: bold\">}</span>\n",
       "</pre>\n"
      ],
      "text/plain": [
       "\u001b[1m{\u001b[0m\u001b[32m'a'\u001b[0m: \u001b[1;36m1\u001b[0m, \u001b[32m'b'\u001b[0m: \u001b[1;36m2\u001b[0m\u001b[1m}\u001b[0m\n"
      ]
     },
     "metadata": {},
     "output_type": "display_data"
    }
   ],
   "source": [
    "old_print({\"a\": 1, \"b\": 2})\n",
    "print({\"a\": 1, \"b\": 2})"
   ]
  },
  {
   "cell_type": "code",
   "execution_count": 85,
   "metadata": {},
   "outputs": [
    {
     "name": "stdout",
     "output_type": "stream",
     "text": [
      "Writing cwiczenia/cwiczenie_05.py\n"
     ]
    }
   ],
   "source": [
    "%%writefile cwiczenia/cwiczenie_05.py\n",
    "from rich import print\n",
    "\n",
    "# Funkcje przetwarzające zamówienia\n",
    "def process_online_order(order):\n",
    "    ...\n",
    "\n",
    "def process_store_order(order):\n",
    "    ...\n",
    "\n",
    "def process_vip_order(order):\n",
    "    ...\n",
    "\n",
    "# Słownik typów zamówień\n",
    "order_processors = {\n",
    "\n",
    "}\n",
    "\n",
    "# Fabryka funkcji dla podatków\n",
    "def tax_factory(rate):\n",
    "    ...\n",
    "\n",
    "# Słownik reguł podatkowych\n",
    "tax_rules = {\n",
    "    \"electronics\": tax_factory(15),\n",
    "    \"books\": tax_factory(5),\n",
    "    \"furniture\": tax_factory(10),\n",
    "}\n",
    "\n",
    "# Funkcja do przetwarzania jednego zamówienia\n",
    "def process_order(order, order_processor, tax_calculator):\n",
    "    ...\n",
    "    return order\n",
    "\n",
    "# Funkcja główna\n",
    "def process_orders(orders):\n",
    "    ...\n",
    "\n",
    "    return summary\n",
    "\n",
    "# Przetwarzanie zamówień\n",
    "orders = [\n",
    "    {\"product\": \"Laptop\", \"type\": \"online\", \"category\": \"electronics\", \"amount\": 1200},\n",
    "    {\"product\": \"Chair\", \"type\": \"store\", \"category\": \"furniture\", \"amount\": 300},\n",
    "    {\"product\": \"Book\", \"type\": \"vip\", \"category\": \"books\", \"amount\": 50},\n",
    "    {\"product\": \"Phone\", \"type\": \"online\", \"category\": \"electronics\", \"amount\": 800},\n",
    "    {\"product\": \"Table\", \"type\": \"store\", \"category\": \"furniture\", \"amount\": 500},\n",
    "]\n",
    "\n",
    "summary = process_orders(orders)\n",
    "print(\"Podsumowanie zamówień:\", summary)\n",
    "assert summary == {'total_value': 2830.0, 'total_tax': 381.5, 'order_count_by_type': {'online': 2, 'store': 2, 'vip': 1}}\n",
    "#   \n",
    "#   Podsumowanie zamówień:\n",
    "#   {'total_value': 2880.0, 'total_tax': 384.0, 'order_count_by_type': {'online': 2, 'store': 2, 'vip': 1}}\n",
    "#   \n",
    "\n",
    "from tabulate import tabulate\n",
    "\n",
    "# Funkcja do generowania i wyświetlania szczegółowego podsumowania w formie tabeli\n",
    "def display_summary_table(orders):\n",
    "    table_data = [\n",
    "        {\n",
    "            \"Product\": order[\"product\"],\n",
    "            \"Type\": order[\"type\"],\n",
    "            \"Category\": order[\"category\"],\n",
    "            \"Amount\": round(order[\"amount\"], 2),\n",
    "            \"Tax Amount\": round(order[\"tax_amount\"], 2),\n",
    "            \"Tax Rate (%)\": order[\"tax_rate\"],\n",
    "        }\n",
    "        for order in orders\n",
    "    ]\n",
    "\n",
    "    # Tworzenie tabeli\n",
    "    return tabulate(table_data, headers=\"keys\", tablefmt=\"grid\")\n",
    "\n",
    "print(display_summary_table(orders))"
   ]
  },
  {
   "cell_type": "markdown",
   "metadata": {},
   "source": [
    "# https://github.com/rkorzen/alx_2024_12_21"
   ]
  }
 ],
 "metadata": {
  "kernelspec": {
   "display_name": "venv",
   "language": "python",
   "name": "python3"
  },
  "language_info": {
   "codemirror_mode": {
    "name": "ipython",
    "version": 3
   },
   "file_extension": ".py",
   "mimetype": "text/x-python",
   "name": "python",
   "nbconvert_exporter": "python",
   "pygments_lexer": "ipython3",
   "version": "3.9.13"
  }
 },
 "nbformat": 4,
 "nbformat_minor": 2
}
